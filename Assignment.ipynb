{
 "cells": [
  {
   "cell_type": "markdown",
   "metadata": {},
   "source": [
    "### Question 1:\n",
    "\n",
    "A maze solver algorithm has been generated to traverse the maze shown below. Two methods have been applied, a Backtracking algorithm and a Las Vegas algorithm. Each algorithm is run for 10000 cycles and the driver code allows user input to decide on which method of solving the maze is used."
   ]
  },
  {
   "cell_type": "code",
   "execution_count": 23,
   "metadata": {},
   "outputs": [
    {
     "name": "stdout",
     "output_type": "stream",
     "text": [
      "This is the maze we want to solve:\n"
     ]
    },
    {
     "data": {
      "image/png": "[encoded data removed]",
      "text/plain": [
       "<Figure size 640x480 with 1 Axes>"
      ]
     },
     "metadata": {},
     "output_type": "display_data"
    }
   ],
   "source": [
    "import PIL\n",
    "from PIL import Image\n",
    "import numpy as np\n",
    "import matplotlib.pyplot as mp\n",
    "import random\n",
    "\n",
    "# Open the maze image and assign the width and height\n",
    "maze = Image.open('maze-2.png').convert('L')\n",
    "w, h = maze.size\n",
    "\n",
    "# Ensure all black pixels are 0 and all white pixels are 1\n",
    "binary = maze.point(lambda p: p > 128 and 1)\n",
    "\n",
    "# Resize to ensure each cell takes up a single element in the array\n",
    "compact_maze = binary.resize((w // 10, h // 10), Image.NEAREST)\n",
    "w, h = compact_maze.size\n",
    "\n",
    "# Convert to Numpy array\n",
    "maze = np.array(compact_maze)\n",
    "visited = np.zeros((21,21))\n",
    "print(\"This is the maze we want to solve:\")\n",
    "mp.imshow(maze, cmap='gray')\n",
    "mp.axis('off')\n",
    "mp.show()"
   ]
  },
  {
   "cell_type": "markdown",
   "metadata": {},
   "source": [
    "#### Backtracking Method\n",
    "\n",
    "The algorithm will decide on a direction to traverse through the graph in a set pattern (defined by the current index of the direction string and the x and y lists). The rotation of directions was decided by placing the characters of the directionn string in alphabetical order. Given more time to test the code would allow the possibility of finding the optimal rotation for this maze, though the rotation would need to be tested again for a new maze. The previous cell is blocked to prevent that direction being selected, being opened again if backtracking is necessary due to the current path being blocked. A new path will be located through available cells, backtracking when needed, until the exit cell has been reached. Any cell reached is recorded in the visited array."
   ]
  },
  {
   "cell_type": "code",
   "execution_count": 24,
   "metadata": {},
   "outputs": [],
   "source": [
    "# Variables to control the direction of traversal\n",
    "direction = \"DLRU\"\n",
    "y = [1, 0, 0, -1]\n",
    "x = [0, -1, 1, 0]\n",
    "\n",
    "# Function to check if the next cell is clear\n",
    "def Clear(maze, row, col, size):\n",
    "    return 0 <= row < size and 0 <= col < size and maze[row][col] == 1\n",
    "\n",
    "# Backtracking algorithm\n",
    "def Backtrack(maze, row, col, size, ans, path, visited):\n",
    "    if row == size-1 and maze[row][col] == 1:\n",
    "        ans.append(\", \".join(path))\n",
    "        return\n",
    "    \n",
    "    maze[row][col] = 0\n",
    "    visited[row][col] = 2\n",
    "    for i in range(4):\n",
    "        next_row = row + y[i]\n",
    "        next_col = col + x[i]\n",
    "        if Clear(maze, next_row, next_col, size):\n",
    "            path += direction[i]\n",
    "            Backtrack(maze, next_row, next_col, size, ans, path, visited)\n",
    "            path = path[:-1]\n",
    "\n",
    "    maze[row][col] = 1  "
   ]
  },
  {
   "cell_type": "code",
   "execution_count": 25,
   "metadata": {},
   "outputs": [
    {
     "name": "stdout",
     "output_type": "stream",
     "text": [
      "The success rate is 100%\n"
     ]
    }
   ],
   "source": [
    "maze = np.array(compact_maze)\n",
    "size = len(maze)\n",
    "result = []\n",
    "path = []\n",
    "run = 0\n",
    "success = 0\n",
    "while run < 10000:\n",
    "    Backtrack(maze, 0, 9, size, result, path, visited)\n",
    "    if result:\n",
    "        success = success + 1\n",
    "        result = []\n",
    "        path = []\n",
    "    run = run + 1\n",
    "\n",
    "print(f\"The success rate is {int((success / run) * 100)}%\")\n",
    "\n",
    "\n"
   ]
  },
  {
   "cell_type": "markdown",
   "metadata": {},
   "source": [
    "#### Las Vegas Method\n",
    "\n",
    "The algorithm will chose a random direction (left, right, up or down) and advance through the graph one cell at a time. Each time the algorithm will pick a new random direction to advance. Each cell reached is recorded in the visited array. The algorithm only returns a success if it reaches the exit cell. This function is calling the same direction, x and y variables as the Backtracking() function. Both algorithms are calling the same Clear() function."
   ]
  },
  {
   "cell_type": "code",
   "execution_count": 26,
   "metadata": {},
   "outputs": [],
   "source": [
    "# Las Vegas algorithm\n",
    "def LasVegas(maze, row, col, size, ans, path, visited):\n",
    "    steps = 0\n",
    "    success = False\n",
    "    while success == False or steps <= 400:\n",
    "        # Choose random direction\n",
    "        i = random.randrange(0, 4)\n",
    "        next_row = row + y[i]\n",
    "        next_col = col + x[i]\n",
    "\n",
    "        if Clear(maze, next_row, next_col, size):\n",
    "            visited[next_row][next_col] = 2\n",
    "            path.append(direction[i])\n",
    "            row = next_row\n",
    "            col = next_col\n",
    "         \n",
    "        if row == size - 1 and maze[row][col] == 1:\n",
    "            ans.append(\", \".join(path))\n",
    "            success = True\n",
    "        steps = steps + 1\n",
    "    return None"
   ]
  },
  {
   "cell_type": "code",
   "execution_count": 28,
   "metadata": {},
   "outputs": [
    {
     "name": "stdout",
     "output_type": "stream",
     "text": [
      "The success rate is 100%\n"
     ]
    }
   ],
   "source": [
    "maze = np.array(compact_maze)\n",
    "size = len(maze)\n",
    "result = []\n",
    "path = []\n",
    "run = 0\n",
    "success = 0\n",
    "while run < 10000:\n",
    "    LasVegas(maze, 0, 9, size, result, path, visited)\n",
    "    if result:\n",
    "        success = success + 1\n",
    "        result = []\n",
    "        path = []\n",
    "    run = run + 1\n",
    "\n",
    "print(f\"The success rate is {int((success / run) * 100)}%\")"
   ]
  },
  {
   "cell_type": "markdown",
   "metadata": {},
   "source": [
    "As implemented, the algorithms above would need to be edited to update the exit cell position if a different maze is used in the initialisation.\n",
    "\n",
    "The main difference between the two algorithms is the method used to decide on a direction. The Backtracking method rotates through the directions in a set order, with the direction previously travelled being blocked off unless backtracking is necessary. The Las Vegas method chooses the direction randomly, which means going back on itself is possible as much as is needed until the exit or the run limit is reached. The Backtracking algorithm could be optimised by finding the order the directions are chosen which results in traversal of the graph with minimum backtracking necessary, while the Las Vegas algorithm cannot be optimised in this manner due to the random choice taken. Though the Las Vegas approach does have the chance of reaching the exit in the shortest path, it is far from guaranteed, with this approach producing a much longer path of directions than the Backtracking method in all but one instance in my testing.\n",
    "\n",
    "As can be seen in the code cells beneath each of the maze solver functions, both methods have achieved a 100% success rate over 10000 cycles. The Backtracking algorithm only ends on a success so this is no surprise. It would be expected for the Las Vegas algorithm to result in some failures, though it could be summised that the maze is small enough that the chance of failure over 400 steps is miniscule, perhaps with a larger maze the success rate would be lower than 100%.\n",
    "\n",
    "I have used primarily NumPy arrays to implement this problem as a matrix has a similar grid structure to the maze, allowing for a the traversal of the matrix to be an analogue to the traversal of the maze. Use of the NumPy arrays allowed for the visualisation of the visited cells to be implemented with ease also as the visited variable could be created as a matrix identical to the maze and edited as the algorithm traverses the maze matrix."
   ]
  },
  {
   "cell_type": "markdown",
   "metadata": {},
   "source": [
    "#### Driver Code\n",
    "\n",
    "The below code allows for a user input in deciding which method is used to solve the graph. The visited matrix is traversed, assigning colours to the values (black for 0, white for 1, green for 2), with all visited cells displaying as green. The path taken to get to the exit and the visited matrix are displayed."
   ]
  },
  {
   "cell_type": "code",
   "execution_count": 20,
   "metadata": {},
   "outputs": [
    {
     "name": "stdout",
     "output_type": "stream",
     "text": [
      "The path to get to the exit is:['D, D, D, L, L, U, U, L, L, D, D, L, L, D, D, R, R, D, D, D, D, D, D, R, R, R, R, D, D, L, L, D, D, D, D, L, L, U, U, U, U, L, L, U, U, U, U, L, L, D, D, D, D, D, D, R, R, D, D, D, D, L, L, U, R, R, R, R, R, R, U, U, R, R, R, R, D, D, L, L, D']\n",
      "\n",
      "The visited squares while searching for the correct path are shown in green: \n"
     ]
    },
    {
     "data": {
      "image/png": "[encoded data removed]",
      "text/plain": [
       "<Figure size 640x480 with 1 Axes>"
      ]
     },
     "metadata": {},
     "output_type": "display_data"
    }
   ],
   "source": [
    "# Setup conditions for the maze solver functions\n",
    "maze = np.array(compact_maze)\n",
    "size = len(maze)\n",
    "result = []\n",
    "path = []\n",
    "\n",
    "# Algorithm to select maze solver method via user input\n",
    "method = input(\"Would you like to solve the maze using a backtracking or a Las Vegas method? \") \n",
    "check = False\n",
    "while check == False:\n",
    "    if method == \"Backtracking\":\n",
    "        Backtrack(maze, 0, 9, size, result, path, visited)\n",
    "        check = True\n",
    "    elif method == \"Las Vegas\":\n",
    "        LasVegas(maze, 0, 9, size, result, path, visited)\n",
    "        check = True\n",
    "    # Avoiding invalid input\n",
    "    else:\n",
    "        method=input(\"Sorry I didn't recognise that, please enter either Backtracking or Las Vegas: \")\n",
    "\n",
    "# Mark any unvisited cells in the visited array\n",
    "for i in range(size):\n",
    "    for j in range(size):\n",
    "        if maze[i][j] == 1:\n",
    "            if visited[i][j] != 2:\n",
    "                visited[i][j] = 1\n",
    "\n",
    "print(\"The path to get to the exit is:\" + str(result))\n",
    "print(\"\")\n",
    "\n",
    "# Assign colours to specific values\n",
    "# Black for walls, white for unvisited cells, green for visited cells\n",
    "colours = {0: np.array([0, 0, 0]), 1: np.array([255, 255, 255]), 2: np.array([0, 255, 0])} \n",
    "\n",
    "# Use a 3D array to assign color   \n",
    "visited_coloured = np.ndarray(shape = (visited.shape[0], visited.shape[1], 3), dtype = int)\n",
    "for i in range(0, visited.shape[0]):\n",
    "    for j in range(0, visited.shape[1]):\n",
    "        visited_coloured[i][j] = colours[visited[i][j]]\n",
    "\n",
    "print(\"The visited squares while searching for the correct path are shown in green: \")\n",
    "mp.imshow(visited_coloured)\n",
    "mp.axis(\"off\")\n",
    "mp.show()\n"
   ]
  },
  {
   "cell_type": "markdown",
   "metadata": {},
   "source": [
    "### Question 2:\n",
    "\n",
    "A Minimum Spanning Tree is the result of interpreting a weighter graph and returning a tree spanning each edge, with a total weight of no more than any other spanning tree of the given graph (Sedgewick and Wayne, 2011). The given weighted graph has been displayed below:"
   ]
  },
  {
   "cell_type": "code",
   "execution_count": 11,
   "metadata": {},
   "outputs": [
    {
     "data": {
      "image/png": "[encoded data removed]",
      "text/plain": [
       "<Figure size 640x480 with 1 Axes>"
      ]
     },
     "metadata": {},
     "output_type": "display_data"
    }
   ],
   "source": [
    "import matplotlib.pyplot as mp\n",
    "import networkx as nx\n",
    "import pandas as pd\n",
    "\n",
    "# Construct the graph\n",
    "G = nx.Graph()\n",
    "nodes = [\"A\", \"B\", \"C\", \"D\", \"E\", \"F\",\"Z\"]\n",
    "G.add_nodes_from(nodes)\n",
    "G.add_edge(\"A\", \"B\", weight = 2)\n",
    "G.add_edge(\"A\", \"C\", weight = 7)\n",
    "G.add_edge(\"B\", \"D\", weight = 1)\n",
    "G.add_edge(\"B\", \"E\", weight = 5)\n",
    "G.add_edge(\"C\", \"D\", weight = 3)\n",
    "G.add_edge(\"C\", \"F\", weight = 10)\n",
    "G.add_edge(\"D\", \"F\", weight = 4)\n",
    "G.add_edge(\"D\", \"Z\", weight = 6)\n",
    "G.add_edge(\"E\", \"Z\", weight = 3)\n",
    "G.add_edge(\"F\", \"Z\", weight = 3)\n",
    "pos = nx.spring_layout(G)\n",
    "nx.draw_networkx_nodes(G, pos)\n",
    "nx.draw_networkx_edges(G, pos, style = \"solid\")\n",
    "nx.draw_networkx_labels(G, pos)\n",
    "weight = nx.get_edge_attributes(G, \"weight\")\n",
    "nx.draw_networkx_edge_labels(G, pos, weight)\n",
    "mp.show()"
   ]
  },
  {
   "cell_type": "markdown",
   "metadata": {},
   "source": [
    "To aid in traversal, the graph was initially converted to a Pandas DataFrame and further converted to a NumPy array. Displayed is the resulting adjacency matrix."
   ]
  },
  {
   "cell_type": "code",
   "execution_count": 12,
   "metadata": {},
   "outputs": [
    {
     "name": "stdout",
     "output_type": "stream",
     "text": [
      "[[ 0  2  7  0  0  0  0]\n",
      " [ 2  0  0  1  5  0  0]\n",
      " [ 7  0  0  3  0 10  0]\n",
      " [ 0  1  3  0  0  4  6]\n",
      " [ 0  5  0  0  0  0  3]\n",
      " [ 0  0 10  4  0  0  3]\n",
      " [ 0  0  0  6  3  3  0]]\n"
     ]
    }
   ],
   "source": [
    "# Convert to a Pandas DataFrame\n",
    "adj_matrix = nx.to_pandas_adjacency(G)\n",
    "\n",
    "# Convert to a NumPy array for easy iteration\n",
    "adj_matrix = np.array(adj_matrix).astype(int)\n",
    "print(adj_matrix)\n"
   ]
  },
  {
   "cell_type": "markdown",
   "metadata": {},
   "source": [
    "#### MST using Prims Algorithm\n",
    "\n",
    "Prims algorithm is a method of creating a Minimum Spanning Tree from a connected weighed graph by adding edges connected to nodes already part of the tree (Calverd, 2024). This method has been applied to the above adjacency matrix. Shown below is the updated matrix with only the weights present in the tree populating the matrix. Edges that do not exist in the tree are populated with a value of 0.\n"
   ]
  },
  {
   "cell_type": "code",
   "execution_count": 13,
   "metadata": {},
   "outputs": [
    {
     "name": "stdout",
     "output_type": "stream",
     "text": [
      "[[0 2 0 0 0 0 0]\n",
      " [0 0 0 1 5 0 0]\n",
      " [0 0 0 0 0 0 0]\n",
      " [0 0 3 0 0 4 0]\n",
      " [0 0 0 0 0 0 3]\n",
      " [0 0 0 0 0 0 0]\n",
      " [0 0 0 0 0 0 0]]\n"
     ]
    }
   ],
   "source": [
    "# Assign a matrix to store the MST edges.\n",
    "mst_matrix = np.zeros([7,7]).astype(int)\n",
    "prim = len(adj_matrix)\n",
    "\n",
    "# Erase the first column of edges\n",
    "for row in range(prim):\n",
    "    for col in range(1):\n",
    "        adj_matrix[row][col]=0\n",
    "\n",
    "# Iterate over the nodes, adding the lowest weighted edge each time starting from node A\n",
    "for stage in range(prim):\n",
    "    lowest_edge = 0\n",
    "    row_track = 0\n",
    "    col_track = 0\n",
    "    for row in range(stage + 1):\n",
    "        for col in range(prim):\n",
    "            if adj_matrix[row][col] != 0:   \n",
    "                if lowest_edge == 0 or adj_matrix[row][col] < lowest_edge:\n",
    "                    lowest_edge = adj_matrix[row][col]\n",
    "                    row_track = row\n",
    "                    col_track = col               \n",
    "    mst_matrix[row_track][col_track] = adj_matrix[row_track][col_track]                \n",
    "    for row in range(prim):\n",
    "        for col in range(col_track, col_track + 1):\n",
    "            adj_matrix[row][col] = 0\n",
    "\n",
    "print(mst_matrix)"
   ]
  },
  {
   "cell_type": "markdown",
   "metadata": {},
   "source": [
    "To allow the nodes to be labelled on the viaualisation of the tree, the updated matrix is converted back into a Pandas DataFrame."
   ]
  },
  {
   "cell_type": "code",
   "execution_count": null,
   "metadata": {},
   "outputs": [
    {
     "name": "stdout",
     "output_type": "stream",
     "text": [
      "   A  B  C  D  E  F  Z\n",
      "A  0  2  0  0  0  0  0\n",
      "B  0  0  0  1  5  0  0\n",
      "C  0  0  0  0  0  0  0\n",
      "D  0  0  3  0  0  4  0\n",
      "E  0  0  0  0  0  0  3\n",
      "F  0  0  0  0  0  0  0\n",
      "Z  0  0  0  0  0  0  0\n"
     ]
    }
   ],
   "source": [
    "# Convert back to a Pandas DataFrame\n",
    "mst_labelled = pd.DataFrame(mst_matrix, index = [\"A\", \"B\", \"C\", \"D\", \"E\", \"F\", \"Z\"], columns = [\"A\", \"B\", \"C\", \"D\", \"E\", \"F\", \"Z\"])\n",
    "print(mst_labelled)\n"
   ]
  },
  {
   "cell_type": "markdown",
   "metadata": {},
   "source": [
    "A NetworkX graph is constructed from the Pandas DataFrame to visualise the Minimum Spanning Tree. The total weight of the tree is calculated and displayed below the visualisation of the tree."
   ]
  },
  {
   "cell_type": "code",
   "execution_count": null,
   "metadata": {},
   "outputs": [
    {
     "data": {
      "image/png": "[encoded data removed]",
      "text/plain": [
       "<Figure size 640x480 with 1 Axes>"
      ]
     },
     "metadata": {},
     "output_type": "display_data"
    },
    {
     "name": "stdout",
     "output_type": "stream",
     "text": [
      "The total weight of the MST is: 18\n"
     ]
    }
   ],
   "source": [
    "#Gather data from the DataFrame\n",
    "mst = nx.from_pandas_adjacency(mst_labelled)\n",
    "\n",
    "# Construct the tree with weighted labels\n",
    "pos = nx.spring_layout(mst)\n",
    "nx.draw_networkx_nodes(mst, pos)\n",
    "nx.draw_networkx_edges(mst, pos, style = \"solid\")\n",
    "nx.draw_networkx_labels(mst, pos)\n",
    "weight = nx.get_edge_attributes(mst, \"weight\")\n",
    "nx.draw_networkx_edge_labels(mst, pos, weight)\n",
    "mp.show()\n",
    "\n",
    "# Sum the wieghts\n",
    "count = len(mst_matrix)\n",
    "mst_total_weight = 0\n",
    "for row in range(count):\n",
    "    for col in range(count):\n",
    "        mst_total_weight = mst_total_weight + mst_matrix[row][col]\n",
    "\n",
    "print(f\"The total weight of the MST is: {mst_total_weight}\")\n"
   ]
  },
  {
   "cell_type": "markdown",
   "metadata": {},
   "source": [
    "### Question 3:\n",
    "The Quick Sort algorithm is a particularly fast sorting method, with no additional storage needed than the list of values to be sorted (Hoare, 1961). The example below utilises the Hoare Partition Scheme (Hoare, 1961). With the addition of the pivot being fixed as the midpoint of the values with the first and last index in each partition, using floor division.\n",
    "\n",
    "The Partition function has one index at either side of the list, incrementing into the list until both are equal to the index of the pivot point; the values less than the pivot are to the left of the pivot; and the values greater than the pivot are to the right of the pivot. The QuickSort function calls the partition function on the entire list, then on each half recursively until the entire list is sorted."
   ]
  },
  {
   "cell_type": "markdown",
   "metadata": {},
   "source": [
    "#### Pseudocode"
   ]
  },
  {
   "cell_type": "markdown",
   "metadata": {},
   "source": [
    "\n",
    "    Partition(list, low, high)\n",
    "        pivot := middle element of list\n",
    "        low_index := low - 1\n",
    "        high_index := high + 1\n",
    "\n",
    "        Loop forever\n",
    "            increment low_index by 1\n",
    "            while list[low_index] < pivot\n",
    "                increment low_index by 1\n",
    "            decrement high_index by 1\n",
    "            while list[high_index] > pivot\n",
    "                decrement high_index by 1\n",
    "            if low_index >= high_index\n",
    "                return high_index\n",
    "            else\n",
    "                swap list[low_index] and list[high_index] \n",
    "\n",
    "    QuickSort(list, low, high)\n",
    "        if low < high\n",
    "            pivot_index := Partition(list, low, high)\n",
    "            QuickSort(list, low, pivot_index) //partition and sort the elements left of the pivot\n",
    "            QuickSort(list, pivot_index + 1, high) //partition and sort the elements right of the pivot"
   ]
  },
  {
   "cell_type": "markdown",
   "metadata": {},
   "source": [
    "#### Algorithm"
   ]
  },
  {
   "cell_type": "code",
   "execution_count": null,
   "metadata": {},
   "outputs": [
    {
     "name": "stdout",
     "output_type": "stream",
     "text": [
      "[1, 2, 3, 4, 6, 7, 8, 9]\n",
      "['Brussels', 'Canberra', 'London', 'Paris', 'Rome']\n"
     ]
    }
   ],
   "source": [
    "def Partition(list, low, high):\n",
    "    pivot = list[(low + high) // 2] # Midpoint of the current partition\n",
    "    low_index = low - 1 \n",
    "    high_index = high + 1\n",
    "\n",
    "    while True:\n",
    "        low_index = low_index + 1\n",
    "        # Increment first index\n",
    "        while list[low_index] < pivot: # Reverse the sign to change the sort order\n",
    "            low_index = low_index + 1\n",
    "        high_index = high_index - 1\n",
    "        # Decrement second index\n",
    "        while list[high_index] > pivot: # Reverse the sign to change the sort order\n",
    "            high_index = high_index - 1\n",
    "        # Check if the values have been partitioned with respect to the pivot\n",
    "        if low_index >= high_index:\n",
    "            return high_index\n",
    "        # Swap the values to the correct partitions\n",
    "        list[low_index], list[high_index] = list[high_index], list[low_index]\n",
    "\n",
    "def QuickSort(list, low, high):\n",
    "    if low < high:\n",
    "        # Partition the values with respect to the pivot\n",
    "        pivot_index = Partition(list, low, high)\n",
    "        # Sort the lower values partition\n",
    "        QuickSort(list, low, pivot_index)\n",
    "        # Sort the higher values partition\n",
    "        QuickSort(list, pivot_index + 1, high)\n",
    "\n",
    "# Example driver code using a list of integers to be sorted in ascending order\n",
    "integers = [9, 1, 8, 7, 4, 3, 6, 2]\n",
    "QuickSort(integers, 0, len(integers) - 1)\n",
    "print(integers)\n",
    "\n",
    "# Example driver code using a list of cities to be sorted alphabetically\n",
    "cities = [\"London\", \"Paris\", \"Rome\", \"Canberra\", \"Brussels\"]\n",
    "QuickSort(cities, 0, len(cities) - 1)\n",
    "print(cities)"
   ]
  },
  {
   "cell_type": "markdown",
   "metadata": {},
   "source": [
    "An alternative partitioning method would be Lomuto's Partiton Scheme. This algorithm offers simpler implementation though is more inefficient than Hoare's Scheme (Iyer, 2024). \n",
    "\n",
    "Quick Sort can be implemented without an in-place method if desired. By using lists, the left and right partitions can be stored, then recursively partitioned and combined back into a single list once the sorting is complete (Ahamed Kitthu, 2024)."
   ]
  },
  {
   "cell_type": "markdown",
   "metadata": {},
   "source": [
    "### Question 4:\n",
    "The algorithm below first formats a string into all lowercase letters to allow comparison of all characters. If the string is only a signle character then it is by definition a palindrome, so no processing is required. If the string is longer, the function is recursively called to compare the outermost characters, progressing towards the centre character(s). If all characters can be successfully confirmed as matching then the function will return true, otherwise it will return false."
   ]
  },
  {
   "cell_type": "code",
   "execution_count": 324,
   "metadata": {},
   "outputs": [],
   "source": [
    "def isPalindrome(palindrome):\n",
    "    #standardise the case to ensure all characters can be compared\n",
    "    palindrome=palindrome.lower() \n",
    "    #identify a string of only one character or if the recursive algorithm has successfully reached the centre of the string\n",
    "    if len(palindrome)<2: \n",
    "        return True\n",
    "    if palindrome[0]==palindrome[len(palindrome)-1]:\n",
    "        return isPalindrome(palindrome[1:len(palindrome)-1])\n",
    "    #not a palindrome\n",
    "    else:\n",
    "        return False"
   ]
  },
  {
   "cell_type": "markdown",
   "metadata": {},
   "source": [
    "An example of calling the function with a non-palindrome:"
   ]
  },
  {
   "cell_type": "code",
   "execution_count": 325,
   "metadata": {},
   "outputs": [
    {
     "name": "stdout",
     "output_type": "stream",
     "text": [
      "The word is not a palindrome.\n"
     ]
    }
   ],
   "source": [
    "a=\"Horticulture\"\n",
    "if isPalindrome(a):\n",
    "    print(\"The word is a palindrome.\")\n",
    "else:\n",
    "    print(\"The word is not a palindrome.\")"
   ]
  },
  {
   "cell_type": "markdown",
   "metadata": {},
   "source": [
    "With a palindrome:"
   ]
  },
  {
   "cell_type": "code",
   "execution_count": 326,
   "metadata": {},
   "outputs": [
    {
     "name": "stdout",
     "output_type": "stream",
     "text": [
      "The word is a palindrome.\n"
     ]
    }
   ],
   "source": [
    "b=\"Detartrated\"\n",
    "if isPalindrome(b):\n",
    "    print(\"The word is a palindrome.\")\n",
    "else:\n",
    "    print(\"The word is not a palindrome.\")"
   ]
  },
  {
   "cell_type": "markdown",
   "metadata": {},
   "source": [
    "With a user-inputted string, the input used was \"Rotator\":"
   ]
  },
  {
   "cell_type": "code",
   "execution_count": 328,
   "metadata": {},
   "outputs": [
    {
     "name": "stdout",
     "output_type": "stream",
     "text": [
      "The word is not a palindrome.\n"
     ]
    }
   ],
   "source": [
    "c=input(\"Enter a word to check if it is a palindrome.\")\n",
    "if isPalindrome(c):\n",
    "    print(\"The word is a palindrome.\")\n",
    "else:\n",
    "    print(\"The word is not a palindrome.\")"
   ]
  },
  {
   "cell_type": "markdown",
   "metadata": {},
   "source": [
    "### Question 5\n",
    "\n",
    "The Needleman-Wunsch string alignment algorithm was performed on the strings CATGATAA and ATACATA. The steps taken are as follows:\n",
    "\n",
    "The first row and column of the matrix were initialised:\n",
    "\n",
    "![Initiaiised Matrix](Initialise.png)\n",
    "\n",
    "Below is the completed score matrix:\n",
    "\n",
    "![Score Matrix](ScoreMatrix.png)\n",
    "\n",
    "There were 5 valid traceback paths and string alignments, each can be seen below:\n",
    "\n",
    "![Traceback 1](Traceback1.png)\n",
    "\n",
    "![Traceback 2](Traceback2.png)\n",
    "\n",
    "![Traceback 3](Traceback3.png)\n",
    "\n",
    "![Traceback 4](Traceback4.png)\n",
    "\n",
    "![Traceback 5](Traceback5.png)"
   ]
  },
  {
   "cell_type": "markdown",
   "metadata": {},
   "source": [
    "### References\n",
    "\n",
    "Ahamed Kitthu, H. (2024). *What is Quick Sort Algorithm: How does it work and its Implementation* | *Simplilearn.* [online] Simplilearn.com. Available at: https://www.simplilearn.com/tutorials/data-structure-tutorial/quick-sort-algorithm.\n",
    "\n",
    "Calverd, N. (2024). *Prim’s Algorithm* | *Edexcel A Level Further Maths: Decision Maths 1 Revision Notes 2017.* [online] Save My Exams. Available at: https://www.savemyexams.com/a-level/further-maths_decision-maths-1/edexcel/17/revision-notes/algorithms-on-graphs/minimum-spanning-trees/prims-algorithm/.\n",
    "\n",
    "Hoare, C. A. R. (1961). Algorithm 64: quicksort. *Communications of the ACM, 4*(7), 321.\n",
    "\n",
    "Hoare, C. A. R. (1961). Algorithm 63: partition. *Communications of the ACM, 4*(7), 321.\n",
    "\n",
    "Iyer, S. (2024). *Hoare’s vs. Lomuto’s Partition Scheme in Quicksort.* [online] Interviewkickstart.com. Available at: https://www.interviewkickstart.com/blogs/learn/hoares-vs-lomuto-partition-scheme-quicksort.\n",
    "\n",
    "Sedgewick, R. and Wayne, K. (2011). *Algorithms.* Upper Saddle River, Nj: Addison-Wesley."
   ]
  },
  {
   "cell_type": "markdown",
   "metadata": {},
   "source": []
  }
 ],
 "metadata": {
  "kernelspec": {
   "display_name": ".venv",
   "language": "python",
   "name": "python3"
  },
  "language_info": {
   "codemirror_mode": {
    "name": "ipython",
    "version": 3
   },
   "file_extension": ".py",
   "mimetype": "text/x-python",
   "name": "python",
   "nbconvert_exporter": "python",
   "pygments_lexer": "ipython3",
   "version": "3.12.4"
  }
 },
 "nbformat": 4,
 "nbformat_minor": 2
}
