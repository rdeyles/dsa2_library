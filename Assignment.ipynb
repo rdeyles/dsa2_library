{
 "cells": [
  {
   "cell_type": "markdown",
   "metadata": {},
   "source": [
    "### Question 1:\n",
    "Maze solver."
   ]
  },
  {
   "cell_type": "code",
   "execution_count": 95,
   "metadata": {},
   "outputs": [
    {
     "name": "stdout",
     "output_type": "stream",
     "text": [
      "This is the maze we want to solve:\n"
     ]
    },
    {
     "data": {
      "image/png": "[encoded data removed]",
      "text/plain": [
       "<Figure size 640x480 with 1 Axes>"
      ]
     },
     "metadata": {},
     "output_type": "display_data"
    }
   ],
   "source": [
    "import PIL\n",
    "from PIL import Image\n",
    "import numpy as np\n",
    "import matplotlib.pyplot as mp\n",
    "import random\n",
    "\n",
    "# Open the maze image and assign the width and height\n",
    "maze = Image.open('maze-2.png').convert('L')\n",
    "w, h = maze.size\n",
    "\n",
    "# Ensure all black pixels are 0 and all white pixels are 1\n",
    "binary = maze.point(lambda p: p > 128 and 1)\n",
    "\n",
    "# Resize to ensure each cell takes up a single element in the array\n",
    "compact_maze = binary.resize((w // 10, h // 10), Image.NEAREST)\n",
    "w, h = compact_maze.size\n",
    "\n",
    "# Convert to Numpy array\n",
    "maze = np.array(compact_maze)\n",
    "visited = np.zeros((21,21))\n",
    "print(\"This is the maze we want to solve:\")\n",
    "mp.imshow(maze, cmap='gray')\n",
    "mp.axis('off')\n",
    "mp.show()"
   ]
  },
  {
   "cell_type": "markdown",
   "metadata": {},
   "source": [
    "#### Backtracking Method"
   ]
  },
  {
   "cell_type": "code",
   "execution_count": 96,
   "metadata": {},
   "outputs": [],
   "source": [
    "direction = \"DLRU\"\n",
    "y = [1, 0, 0, -1]\n",
    "x = [0, -1, 1, 0]\n",
    "\n",
    "def Clear(maze, row, col, size):\n",
    "    return 0 <= row < size and 0 <= col < size and maze[row][col] == 1\n",
    "\n",
    "def Backtrack(maze, row, col, size, ans, path, visited):\n",
    "    if row == size-1 and maze[row][col] == 1:\n",
    "        ans.append(\", \".join(path))\n",
    "        return\n",
    "    \n",
    "    maze[row][col] = 0\n",
    "    visited[row][col] = 2\n",
    "    for i in range(4):\n",
    "        next_row = row + y[i]\n",
    "        next_col = col + x[i]\n",
    "        if Clear(maze, next_row, next_col, size):\n",
    "            path += direction[i]\n",
    "            Backtrack(maze, next_row, next_col, size, ans, path, visited)\n",
    "            path = path[:-1]\n",
    "\n",
    "    maze[row][col] = 1  "
   ]
  },
  {
   "cell_type": "code",
   "execution_count": 100,
   "metadata": {},
   "outputs": [
    {
     "name": "stdout",
     "output_type": "stream",
     "text": [
      "The success rate is 1.0\n"
     ]
    }
   ],
   "source": [
    "maze = np.array(compact_maze)\n",
    "size = len(maze)\n",
    "result = []\n",
    "path = []\n",
    "run = 0\n",
    "success = 0\n",
    "while run < 10000:\n",
    "    Backtrack(maze, 0, 9, size, result, path, visited)\n",
    "    if result:\n",
    "        success = success + 1\n",
    "        result = []\n",
    "        path = []\n",
    "    run = run + 1\n",
    "\n",
    "print(f\"The success rate is {success / run}\")\n",
    "\n",
    "\n"
   ]
  },
  {
   "cell_type": "markdown",
   "metadata": {},
   "source": [
    "#### Las Vegas Method"
   ]
  },
  {
   "cell_type": "code",
   "execution_count": 118,
   "metadata": {},
   "outputs": [],
   "source": [
    "def LasVegas(maze, row, col, size, ans, path, visited):\n",
    "    steps = 0\n",
    "    success = False\n",
    "    while success == False or steps <= 400:\n",
    "        i = random.randrange(0, 4)\n",
    "        next_row = row + y[i]\n",
    "        next_col = col + x[i]\n",
    "        if Clear(maze, next_row, next_col, size):\n",
    "            visited[next_row][next_col] = 2\n",
    "            path.append(direction[i])\n",
    "            row = next_row\n",
    "            col = next_col\n",
    "         \n",
    "        if row == size - 1 and maze[row][col] == 1:\n",
    "            ans.append(\", \".join(path))\n",
    "            success = True\n",
    "        steps = steps + 1\n",
    "    return None"
   ]
  },
  {
   "cell_type": "code",
   "execution_count": 101,
   "metadata": {},
   "outputs": [
    {
     "name": "stdout",
     "output_type": "stream",
     "text": [
      "The success rate is 1.0\n"
     ]
    }
   ],
   "source": [
    "maze = np.array(compact_maze)\n",
    "size = len(maze)\n",
    "result = []\n",
    "path = []\n",
    "run = 0\n",
    "success = 0\n",
    "while run < 10000:\n",
    "    LasVegas(maze, 0, 9, size, result, path, visited)\n",
    "    if result:\n",
    "        success = success + 1\n",
    "        result = []\n",
    "        path = []\n",
    "    run = run + 1\n",
    "\n",
    "print(f\"The success rate is {success / run}\")"
   ]
  },
  {
   "cell_type": "markdown",
   "metadata": {},
   "source": [
    "#### Driver Code"
   ]
  },
  {
   "cell_type": "code",
   "execution_count": 130,
   "metadata": {},
   "outputs": [
    {
     "name": "stdout",
     "output_type": "stream",
     "text": [
      "The path to get to the exit is:['D, D, U, D, U, U, D, D, D, U, D, U, U, R, L, D, D, L, R, U, U, R, R, R, R, D, D, U, U, D, U, D, D, U, U, L, L, L, R, L, L, R, R, L, L, D, U, D, U, R, R, R, L, L, R, L, L, D, D, U, U, D, D, U, U, R, R, R, L, L, R, R, R, L, L, R, R, L, L, R, R, L, L, L, L, U, D, R, R, R, L, R, R, L, L, L, R, R, R, D, D, D, U, D, D, U, D, U, D, R, L, U, D, U, D, R, L, R, R, D, U, D, U, L, R, L, L, R, R, L, L, R, R, L, L, R, L, R, R, L, L, R, R, L, R, L, R, L, R, D, U, L, L, R, L, U, D, R, L, R, L, R, L, U, U, U, U, L, R, D, D, U, U, L, R, L, L, R, R, L, R, L, R, L, L, R, L, R, R, L, L, L, R, L, L, R, R, R, L, L, L, U, D, R, L, D, D, L, R, L, R, L, L, R, R, U, U, R, L, R, R, R, R, L, L, L, R, L, L, U, D, D, U, D, D, L, R, L, R, L, L, U, U, L, L, D, U, D, U, D, U, R, R, D, U, D, U, D, U, L, L, D, U, R, L, R, R, D, U, D, U, L, L, R, R, L, R, L, L, D, U, D, U, D, D, L, L, D, D, U, D, R, L, R, L, U, U, R, R, U, U, D, D, U, D, U, D, U, D, U, D, L, R, L, R, U, D, U, U, R, L, R, L, D, U, D, U, D, D, U, D, U, U, D, U, D, D, U, D, U, U, D, D, L, L, D, U, D, D, U, D, U, D, U, U, R, R, L, L, R, L, R, L, D, U, D, D, R, L, R, R, L, L, U, D, U, D, R, L, U, U, D, U, R, R, U, U, R, R, D, D, R, R, L, L, R, L, R, R, U, D, U, D, U, D, U, D, L, R, U, U, U, D, U, D, U, D, U, D, U, D, D, D, U, U, R, R, R, L, R, R, L, L, L, R, R, R, L, R, D, D, D, D, R, R, L, L, U, D, R, R, D, D, U, U, D, U, L, R, D, U, L, L, R, R, D, D, D, U, D, D, U, D, U, D, D, D, U, D, D, U, U, U, U, U, U, U, L, R, L, L, R, L, R, L, U, U, D, D, R, L, R, R, D, D, D, D, D, U, D, D, D, U, U, U, U, D, D, U, D, D, U, D, U, D, D, U, U, D, U, U, U, D, D, U, U, D, U, D, D, U, D, D, D, U, D, D, U, D, L, R, L, L, L, L, R, L, R, R, R, R, U, U, U, U, U, U, U, U, L, L, U, U, D, U, D, D, U, D, U, U, D, D, R, L, R, L, R, R, L, L, U, D, R, L, R, L, R, L, R, R, D, D, D, D, D, D, D, D, L, R, L, L, L, L, R, R, R, L, L, R, R, L, L, L, R, R, L, R, R, L, R, R, U, U, D, D, U, D, L, L, L, L, R, R, R, R, U, D, L, R, L, L, R, R, L, L, R, R, U, D, U, U, U, U, D, U, D, U, D, D, U, U, U, U, D, D, D, U, U, U, D, U, D, U, U, D, U, U, L, L, U, D, U, U, U, U, L, R, L, L, R, L, R, R, D, U, L, R, L, R, L, R, L, L, R, R, D, D, U, U, L, L, R, L, R, R, L, L, R, L, R, L, R, R, L, R, L, R, L, L, R, L, R, L, R, L, R, L, R, L, L, L, D, D, U, D, L, L, R, L, R, L, U, U, D, U, D, D, U, D, R, R, L, L, R, L, U, D, U, U, D, D, U, D, R, R, U, U, U, D, R, L, R, R, R, L, L, R, L, R, L, L, D, D, L, R, L, L, R, R, U, U, U, D, D, U, U, D, D, U, U, D, R, R, L, R, R, R, D, U, D, D, U, U, D, D, U, D, U, D, U, U, D, D, D, D, U, U, D, U, U, U, D, U, D, U, D, U, L, L, L, R, R, R, L, L, R, R, L, R, L, L, R, L, L, L, U, D, D, D, U, D, U, U, U, D, R, L, D, U, R, R, L, L, D, D, L, L, U, U, L, L, R, L, R, R, L, L, D, D, U, U, D, U, D, U, R, L, D, D, L, R, L, R, U, D, U, D, U, D, L, L, R, R, L, R, L, R, L, R, L, L, R, L, D, U, R, R, L, R, L, R, L, R, L, R, L, R, U, U, D, D, U, U, D, U, R, L, D, D, U, D, U, D, L, R, U, D, U, D, U, D, L, R, U, D, U, D, U, U, R, R, L, L, R, L, R, R, D, U, D, D, U, U, L, L, R, L, R, L, D, U, R, R, L, L, R, L, R, R, D, U, L, L, D, D, L, L, R, L, D, D, U, U, D, D, U, U, R, L, R, R, U, D, U, U, D, D, L, L, D, D, U, U, R, R, L, R, U, D, U, U, R, L, R, L, R, R, L, R, L, L, R, R, L, L, D, U, R, R, L, R, L, L, R, R, L, L, D, U, D, U, D, D, U, D, U, D, L, R, L, L, D, U, D, D, R, L, U, U, D, D, R, L, R, L, U, U, R, R, L, L, D, U, D, U, D, U, R, L, D, U, D, D, U, U, D, D, R, R, L, R, L, L, U, D, U, U, R, L, D, D, U, D, U, U, R, R, U, D, L, R, L, R, L, L, D, U, D, U, D, D, R, L, U, U, R, L, D, U, R, L, R, R, U, U, R, R, D, U, L, L, D, D, U, D, L, L, R, R, U, U, R, L, D, D, U, D, U, U, R, R, D, D, U, U, L, L, R, L, R, L, D, D, L, L, D, D, R, R, D, D, D, U, D, U, D, U, D, D, D, D, U, U, U, U, U, U, D, U, D, D, U, U, L, L, R, R, L, L, R, L, R, L, U, U, D, U, R, R, U, U, D, U, D, U, R, R, L, L, R, R, D, D, R, L, R, R, U, U, D, D, L, L, U, D, R, R, L, R, U, U, D, D, U, U, R, R, L, R, L, L, U, D, U, D, D, U, D, U, R, L, R, L, D, D, U, U, U, D, U, D, D, D, L, R, U, D, L, R, L, L, U, D, U, U, L, R, D, D, U, U, L, L, R, L, D, U, D, D, L, R, U, U, R, L, D, D, L, L, R, R, L, L, R, R, L, R, U, U, D, U, R, R, L, L, D, D, L, R, L, R, U, U, R, L, R, L, R, L, D, U, D, D, U, D, L, R, U, D, L, L, D, U, D, D, U, U, D, D, U, D, R, L, U, U, D, U, R, L, R, L, D, D, U, D, R, L, R, L, R, L, U, D, R, L, U, U, D, U, D, D, U, U, R, L, D, U, R, L, D, D, R, R, D, U, D, D, D, U, U, D, U, U, D, U, L, R, D, U, L, L, R, L, U, D, R, R, L, L, R, L, R, L, R, R, L, R, D, U, D, D, D, U, U, D, D, U, D, D, D, D, R, L, R, R, R, L, R, R, D, U, U, D, D, D, U, U, D, U, L, R, L, R, L, L, R, L, L, L, R, R, L, L, R, R, L, L, U, U, D, D, R, L, R, R, R, L, R, L, R, L, R, L, R, L, R, R, D, U, U, U, U, U, R, R, U, U, L, R, D, U, U, U, D, U, D, U, D, U, D, U, D, U, D, U, D, U, D, U, D, D, D, U, U, D, L, L, R, R, L, L, L, R, R, L, L, L, D, U, R, R, R, R, D, U, D, U, U, U, D, D, L, R, D, D, U, D, D, D, U, U, L, R, D, U, U, U, L, R, L, L, L, R, R, L, R, L, R, L, L, L, D, D, U, D, U, D, U, U, R, L, R, L, R, L, D, D, D, U, D, U, D, D, U, D, U, U, D, U, D, U, U, U, D, D, U, U, D, D, U, U, R, R, R, R, L, L, R, R, U, U, D, D, U, D, L, R, L, L, L, R, L, R, R, L, L, L, D, U, D, D, U, U, R, L, D, U, R, L, D, U, R, L, R, L, R, L, D, D, D, D, U, D, U, U, U, U, R, R, R, L, L, L, R, R, R, R, D, D, D, D, U, D, U, U, D, U, L, L, R, L, D, D, U, U, D, D, U, U, R, L, D, D, U, D, U, U, D, U, R, L, D, U, R, R, L, R, L, L, D, D, D, D, L, R, U, U, D, D, L, L, L, R, L, R, R, L, L, L, U, U, D, D, U, D, R, R, R, R, U, U, U, D, D, D, D, D, L, R, L, R, L, R, U, D, L, L, R, R, L, L, R, L, D, D, D, D, L, R, L, L, U, D, R, L, R, L, R, L, R, L, R, L, R, L, R, R, L, R, L, R, L, L, U, D, R, R, L, L, R, L, U, D, U, U, U, D, D, U, U, D, U, U, D, D, D, U, D, D, U, D, U, D, U, D, R, L, R, R, U, U, U, D, D, U, U, D, D, D, L, R, U, D, U, D, U, D, L, R, L, L, U, D, R, R, U, U, D, D, L, R, L, L, U, U, U, D, U, D, U, U, L, L, R, R, L, L, U, D, R, L, R, L, R, L, R, R, L, R, D, D, D, U, U, D, U, U, L, R, L, L, R, R, L, L, R, R, L, R, D, U, L, R, D, U, L, L, R, R, L, R, L, R, D, D, U, D, U, D, U, D, U, D, D, U, D, D, R, L, R, R, L, R, L, L, U, D, U, U, U, U, L, R, D, U, D, D, D, D, U, U, D, U, D, U, D, D, U, D, R, L, R, R, U, D, U, D, L, L, U, D, U, U, U, U, L, R, D, U, D, U, L, L, U, D, R, R, D, D, U, U, L, R, D, U, L, R, L, R, L, L, U, U, D, U, D, D, U, U, D, U, D, U, U, U, D, U, L, R, D, D, D, D, R, R, L, L, R, L, R, L, R, R, D, D, U, D, U, U, D, D, U, D, U, U, D, U, D, U, L, R, L, R, L, R, L, L, U, U, D, U, D, U, D, D, R, R, D, D, D, D, R, R, U, U, D, D, L, R, U, U, D, D, U, U, U, D, D, D, U, U, U, D, D, D, L, L, R, R, L, L, U, D, U, D, U, U, D, D, U, D, U, D, R, R, L, L, R, L, R, L, R, L, U, D, R, L, U, D, U, D, R, R, U, D, U, U, U, U, D, U, D, U, D, U, D, U, R, L, R, L, R, L, D, U, D, U, R, L, R, L, D, U, D, D, U, D, D, U, U, D, D, D, U, D, U, U, U, U, D, D, U, D, U, D, U, D, D, D, L, L, U, U, D, U, U, D, D, D, U, U, D, U, D, D, R, R, L, R, U, U, D, D, U, U, U, U, R, R, L, L, D, U, R, R, L, L, D, U, R, L, D, D, D, D, L, R, L, R, U, U, D, D, L, R, U, D, U, D, L, L, R, L, R, L, R, R, L, L, R, L, R, L, R, L, U, U, D, D, U, U, U, D, U, U, L, L, U, D, R, L, R, L, R, L, R, R, L, R, D, D, U, D, D, U, D, U, D, U, D, D, R, R, U, U, D, U, D, U, U, U, D, D, U, U, D, U, R, R, U, U, L, R, U, D, U, U, U, U, R, R, L, R, L, R, D, D, D, D, U, D, U, D, U, U, D, D, U, D, R, R, L, R, L, L, R, R, L, L, U, U, D, U, D, U, D, U, D, U, D, U, D, U, D, U, U, U, D, U, U, D, D, D, U, U, D, D, D, D, U, D, U, U, D, D, U, U, D, U, U, U, U, D, U, U, D, U, D, D, D, D, D, U, D, D, U, U, U, D, D, U, U, D, D, U, U, U, L, L, R, R, D, U, U, U, D, D, U, U, D, D, U, D, U, D, D, U, D, U, U, U, L, L, R, L, R, R, D, U, L, R, U, U, D, U, D, D, D, D, L, L, D, U, D, D, D, U, D, U, U, D, D, U, D, D, L, R, L, L, L, L, R, R, R, L, L, R, L, R, R, R, D, U, L, L, L, L, R, R, L, R, L, R, R, L, R, L, R, R, U, U, U, D, U, D, U, U, R, L, D, U, R, L, R, R, U, D, D, D, D, D, U, U, U, U, U, D, U, D, D, D, D, U, D, U, D, D, R, R, L, R, L, L, R, L, U, D, R, R, L, R, L, L, R, R, L, R, L, L, U, U, U, U, L, L, D, U, R, R, U, D, L, R, L, R, L, L, R, R, L, L, D, D, U, U, D, U, R, R, D, U, D, D, D, U, D, U, U, U, U, D, D, D, D, D, R, R, U, D, L, R, L, R, L, R, U, U, D, U, U, U, D, D, U, U, D, U, D, U, D, D, U, D, D, D, L, R, L, L, U, D, U, D, U, U, U, U, D, D, U, U, U, D, D, U, L, L, R, R, U, D, U, U, L, R, D, U, D, U, L, L, L, L, R, R, L, L, D, U, D, D, D, U, U, U, R, R, R, L, L, L, D, D, U, D, U, U, R, L, R, R, L, R, L, L, D, U, R, L, R, R, R, R, D, D, D, U, U, U, L, R, U, D, D, D, D, U, D, U, U, U, U, D, L, L, L, L, D, U, D, U, R, L, R, L, R, L, R, L, D, D, U, D, U, D, U, U, R, R, R, L, L, L, R, R, L, L, R, R, R, R, U, U, D, U, D, D, U, D, D, D, L, L, R, R, U, U, L, L, R, L, R, R, D, U, L, R, L, R, D, D, D, U, D, U, U, U, U, D, D, D, U, D, L, R, L, L, D, D, D, D, D, D, U, D, U, D, U, D, U, D, U, D, L, R, U, D, U, D, L, L, R, L, D, U, D, U, R, L, R, L, R, L, D, D, U, U, D, D, D, U, U, U, D, D, U, U, D, U, R, R, L, R, L, R, U, D, L, R, L, L, R, R, L, L, D, D, D, U, U, D, U, D, U, U, D, U, R, L, R, R, L, L, D, U, D, D, U, U, R, R, U, U, U, D, U, U, U, D, U, D, D, D, U, U, D, U, U, D, U, U, R, L, D, U, D, D, D, D, U, U, U, U, R, R, U, D, D, D, U, U, D, U, L, R, U, U, L, L, R, R, D, U, U, D, U, D, U, U, D, U, D, U, D, U, D, U, D, D, U, U, D, D, D, D, D, D, U, D, U, U, L, L, D, U, D, U, D, U, R, R, L, R, D, U, U, U, U, U, D, D, L, R, L, L, L, R, L, R, L, R, L, L, R, L, R, R, R, R, L, L, R, R, D, D, L, R, L, L, R, R, D, D, D, U, D, U, D, U, D, D, U, U, D, D, U, D, U, U, D, U, U, D, U, D, U, D, U, D, D, D, R, L, R, L, U, U, U, D, U, D, D, D, U, D, U, D, U, D, R, L, U, U, U, U, L, L, R, L, R, R, L, L, D, D, D, D, L, R, L, R, L, R, U, D, L, R, D, D, U, U, D, D, U, U, D, U, U, U, D, U, U, D, D, D, U, U, U, U, D, D, D, U, U, D, D, U, U, U, R, R, L, R, D, U, L, R, U, D, L, L, R, R, U, D, L, L, R, L, D, U, R, R, L, L, D, U, R, R, D, U, D, U, U, U, D, U, L, L, L, L, D, U, R, R, R, R, D, D, U, U, L, L, R, L, R, L, L, L, R, L, R, R, R, L, L, L, R, R, L, L, D, D, D, D, U, D, U, D, U, D, U, D, U, U, U, U, R, R, R, R, L, R, L, R, D, D, L, R, U, U, L, R, U, U, D, U, D, U, D, D, L, L, L, L, D, U, D, D, D, U, D, U, D, U, U, U, R, R, R, R, D, U, U, U, D, D, U, U, D, D, L, R, U, D, D, U, L, L, R, L, R, L, R, L, R, R, L, R, D, D, U, D, U, U, D, U, U, U, D, U, D, D, L, R, D, D, U, D, L, L, D, D, D, D, L, R, L, R, U, U, U, U, R, L, R, L, R, L, R, L, D, U, R, L, R, L, D, D, U, D, U, D, U, U, D, D, D, D, D, U, D, D, L, L, D, U, D, D, U, U, D, D, U, D, D, U, D, U, D, U, D, U, U, D, U, U, D, U, R, L, D, D, U, D, D, D, L, R, U, D, U, U, D, D, U, U, D, U, D, D, L, R, U, U, D, D, L, R, U, D, U, D, L, R, U, D, U, D, L, L, U, U, U, U, L, L, R, L, U, D, U, U, U, D, D, D, R, L, U, D, R, L, R, L, U, U, U, U, L, L, R, R, D, U, D, U, D, U, L, R, D, U, D, D, D, U, D, U, U, D, U, D, U, U, D, D, D, U, D, U, U, U, L, R, L, R, D, U, L, R, D, D, U, D, U, U, D, D, D, D, R, L, R, L, U, D, R, R, L, R, L, L, U, D, U, D, U, D, R, L, U, U, D, U, U, D, D, D, U, D, R, R, L, L, U, U, D, D, U, D, U, D, R, R, L, L, U, U, U, D, U, U, L, L, R, L, R, L, D, U, D, D, D, U, D, D, D, U, U, U, U, D, D, U, U, D, U, U, R, R, D, U, D, U, D, U, D, U, L, R, L, L, U, U, R, L, D, U, R, R, L, R, L, L, U, D, R, L, D, U, D, U, D, D, R, R, D, D, U, D, D, D, R, L, R, L, R, R, L, R, D, D, U, U, L, L, U, D, U, D, R, L, U, D, U, U, U, U, D, U, L, R, L, L, R, R, D, U, D, D, U, D, D, D, R, L, U, U, U, D, D, U, D, U, U, D, D, U, U, D, D, D, R, L, R, R, D, U, L, L, R, L, R, R, L, R, L, L, U, D, R, R, D, U, L, R, L, L, U, U, U, D, D, U, U, D, D, U, U, U, L, R, D, D, D, U, D, D, R, L, R, L, R, L, R, R, D, U, L, R, D, D, D, D, U, D, R, L, U, D, U, D, U, D, U, U, D, U, U, D, D, D, R, R, L, L, R, R, L, R, U, U, D, U, D, U, D, D, L, L, U, U, U, D, D, U, D, U, U, D, U, D, D, D, R, L, R, L, R, R, L, R, L, L, R, R, U, U, U, U, R, L, D, U, D, D, D, D, U, D, U, D, L, L, U, U, D, U, U, U, D, U, D, U, L, R, L, L, R, R, D, U, D, U, D, U, L, L, R, L, U, U, D, U, D, D, U, U, D, U, D, D, R, R, D, U, D, U, L, R, D, D, D, U, U, U, D, U, D, U, D, U, L, L, U, D, R, R, D, U, D, D, D, U, U, D, D, U, D, D, R, R, U, D, L, L, U, D, U, D, R, R, L, L, U, D, R, L, R, R, L, R, L, R, U, D, L, L, U, U, U, D, U, U, D, U, L, L, U, U, U, D, U, D, U, D, D, D, R, R, L, R, L, R, L, R, L, R, L, L, R, L, U, D, U, U, D, D, U, D, R, R, D, U, D, D, D, D, R, L, R, R, L, R, U, D, U, U, U, U, D, U, D, D, D, D, L, R, U, U, U, D, U, D, D, D, L, L, R, L, R, R, L, L, U, D, R, R, U, D, L, R, U, D, L, L, R, R, U, D, U, U, U, D, U, U, D, D, D, D, U, D, L, R, L, L, U, D, R, L, U, U, D, U, D, D, R, R, U, U, U, U, D, D, U, U, R, R, L, L, R, L, D, U, D, D, U, U, D, U, D, D, U, D, D, U, U, D, D, D, L, L, R, R, U, U, D, U, U, U, R, L, D, D, D, U, D, D, L, L, U, U, D, D, R, L, R, L, R, R, U, D, L, L, U, U, U, D, D, U, U, U, D, D, D, D, R, L, U, U, U, D, D, D, R, L, U, D, U, D, R, L, R, L, R, R, L, L, R, R, U, D, L, R, L, L, U, U, U, U, L, R, L, R, D, D, D, D, U, U, U, D, D, D, U, D, R, L, R, L, U, D, R, L, U, U, U, U, L, L, U, U, U, D, U, D, U, U, D, U, D, D, U, D, U, U, D, D, U, U, D, D, D, U, U, U, L, R, L, L, U, D, D, U, U, U, D, U, D, D, R, L, D, D, U, U, D, D, D, U, U, D, U, D, D, U, U, U, D, U, D, D, D, U, D, D, U, D, U, D, U, D, D, U, U, D, D, U, U, D, D, U, U, U, U, U, D, D, U, U, D, U, D, D, U, D, D, D, U, U, U, U, D, U, U, D, R, R, L, R, D, U, L, L, D, D, D, D, U, U, U, U, U, D, U, U, D, U, D, U, R, R, L, R, L, R, L, L, U, D, R, R, L, R, L, L, U, U, D, U, D, U, D, U, D, D, R, R, L, R, L, R, L, R, L, R, L, L, D, U, D, D, R, L, R, L, U, D, R, L, U, D, D, D, U, U, R, L, U, D, R, L, U, D, U, D, R, L, U, D, R, R, D, D, D, D, U, D, R, R, L, L, R, R, L, R, D, D, D, U, D, D, U, D, R, R, L, R, U, U, D, U, U, U, R, R, L, R, U, U, L, L, R, L, L, L, U, U, D, U, D, D, R, R, R, R, L, R, D, D, U, U, D, D, U, U, D, U, D, D, L, L, D, U, R, R, L, L, R, L, D, U, D, D, D, D, L, R, L, L, R, L, U, D, U, D, U, D, U, D, U, U, U, D, U, D, U, U, L, R, D, U, D, D, U, U, D, U, D, D, U, U, L, R, L, L, U, D, U, D, U, U, D, D, R, R, L, R, D, D, U, D, D, D, R, R, U, U, D, U, U, D, U, U, R, R, U, U, L, R, D, U, L, R, U, U, U, U, D, U, R, L, D, U, R, L, D, U, D, U, D, U, R, R, U, D, U, D, L, L, R, R, L, L, D, U, D, U, D, D, D, U, U, D, D, D, L, R, U, U, U, U, D, U, D, D, D, U, D, D, L, R, D, D, L, R, U, U, L, L, L, L, R, L, U, U, U, D, D, U, U, U, U, U, L, R, L, R, L, R, L, R, D, U, L, L, R, L, U, D, R, R, D, D, D, U, U, U, L, R, L, R, D, D, D, U, U, U, D, D, U, U, L, R, L, L, U, D, R, R, L, L, U, D, U, D, U, U, R, R, L, R, U, D, U, U, R, L, D, U, R, L, D, U, D, D, L, L, R, L, D, U, R, R, L, R, L, R, L, L, R, R, L, L, D, U, R, R, U, D, L, R, L, L, R, R, L, R, L, R, L, L, R, R, L, R, U, D, U, D, U, D, L, L, R, R, L, R, U, U, D, D, U, U, D, U, D, U, R, R, D, D, U, D, U, D, U, U, D, D, U, U, L, L, R, R, L, R, D, D, U, D, U, U, D, U, D, U, D, D, R, L, U, U, L, R, L, R, L, L, R, R, L, L, R, L, D, D, L, R, L, R, L, R, L, L, R, R, U, D, U, U, R, R, L, L, D, D, U, D, U, D, L, L, R, R, L, L, R, R, U, D, L, R, L, R, L, R, U, U, D, D, L, R, L, L, D, U, D, D, R, R, D, D, U, U, D, D, D, D, U, U, U, U, L, L, U, U, D, U, D, D, R, R, D, U, D, D, U, U, D, U, D, D, U, D, U, D, U, D, D, D, U, U, U, U, D, U, L, R, L, R, L, L, R, L, U, U, R, L, R, R, U, D, L, R, L, R, U, U, R, R, D, D, R, L, R, R, L, R, L, R, U, D, U, D, L, R, U, D, L, L, U, U, L, L, D, U, R, R, L, L, R, R, L, R, D, U, D, D, U, D, R, R, L, R, L, R, U, U, R, R, L, R, L, L, U, D, U, D, D, U, U, D, U, D, U, D, U, D, R, R, L, L, D, D, L, L, R, L, U, U, D, D, U, D, U, D, U, D, R, R, U, U, R, R, R, R, L, L, L, R, R, R, L, R, L, L, R, L, L, L, D, D, U, D, U, U, R, R, L, L, D, D, L, L, U, U, L, R, D, D, U, U, D, U, L, R, D, D, R, L, R, L, U, D, R, R, U, D, U, D, L, L, R, R, U, D, U, U, U, D, D, U, R, R, L, R, L, L, D, U, D, U, R, R, R, R, L, L, L, R, L, L, D, D, U, D, L, L, R, R, U, D, L, R, U, D, L, L, R, R, U, D, U, U, D, U, U, D, D, D, L, L, U, D, R, L, R, R, U, D, L, R, U, U, D, U, D, U, R, L, D, U, R, R, L, R, R, L, R, R, L, R, L, R, D, U, D, D, U, U, L, R, D, D, U, U, D, U, L, L, L, R, L, L, D, U, U, D, R, R, L, L, D, U, D, D, U, D, L, R, L, L, U, U, D, U, D, D, R, L, R, L, U, D, U, U, L, R, L, R, L, R, D, U, D, U, D, D, U, U, D, U, L, L, D, U, D, U, R, L, R, L, R, L, R, L, R, R, L, L, D, U, R, R, L, R, D, D, R, L, R, R, L, R, L, R, U, D, L, L, U, U, D, D, U, D, R, R, L, L, U, U, L, L, D, U, D, D, U, U, R, R, L, L, D, D, U, U, R, R, L, R, L, L, R, R, L, L, R, R, L, L, D, D, L, R, L, L, R, R, U, D, U, U, D, D, L, L, D, D, U, D, R, L, U, D, U, D, R, R, D, D, U, D, D, U, U, D, U, U, D, U, D, U, L, L, U, D, R, L, R, L, R, R, D, D, D, U, U, U, D, D, U, D, D, D, D, U, D, U, U, D, U, U, D, D, D, U, U, U, U, D, D, U, U, U, D, U, D, D, D, U, D, U, D, U, U, U, D, U, D, U, D, U, D, U, L, R, D, D, U, U, D, D, D, U, U, D, D, D, U, U, U, U, D, U, L, R, D, D, D, D, D, U, U, U, U, D, D, U, D, D, U, D, D, D, U, D, U, D, R, L, R, L, U, D, R, L, R, L, R, R, R, L, R, L, R, L, L, L, U, D, R, L, U, D, U, U, U, D, U, U, D, D, D, U, U, U, D, U, U, D, D, U, D, D, D, U, U, D, D, D, R, L, U, D, U, U, D, U, D, U, U, D, D, D, U, U, U, D, D, D, R, L, U, D, U, U, U, U, D, U, D, U, U, D, D, U, U, D, D, D, U, U, D, D, D, D, R, L, R, L, R, L, R, R, R, R, D, D, U, U, U, U, U, U, R, L, D, D, D, D, U, U, D, D, U, U, D, U, D, U, D, D, L, L, R, L, R, R, D, U, U, U, D, U, U, U, D, U, R, L, D, U, D, D, D, U, U, D, D, U, D, D, U, U, D, U, U, D, D, U, U, U, D, U, D, D, D, D, L, R, D, U, U, U, U, D, U, D, D, D, U, D, D, U, L, L, R, L, L, L, U, D, R, L, R, L, R, L, U, D, U, D, R, L, U, D, R, L, U, D, U, U, D, U, D, D, U, U, U, D, U, D, U, D, U, D, U, U, U, D, D, U, D, U, D, U, U, D, D, U, D, U, U, D, D, D, U, D, D, U, D, D, R, L, R, L, R, L, U, U, U, D, U, U, D, U, D, D, U, D, U, U, U, D, U, U, D, D, U, U, L, L, R, L, U, U, D, D, R, R, D, D, D, U, D, D, U, U, U, U, L, R, D, U, D, D, D, U, U, U, D, D, U, D, D, U, U, D, U, D, U, U, L, R, L, L, U, U, D, D, U, U, R, R, L, L, R, R, L, L, R, R, L, R, U, U, D, D, L, R, U, U, R, R, D, U, L, L, D, U, R, R, L, L, D, D, U, U, R, L, D, D, L, L, R, L, R, R, L, L, D, U, D, U, R, L, R, L, D, D, R, R, L, L, R, L, U, U, R, R, U, U, R, L, D, D, U, U, R, L, D, D, L, L, R, L, D, U, D, D, R, L, R, R, L, R, L, L, U, D, R, R, L, L, R, L, U, U, R, L, R, L, D, D, R, R, L, L, R, R, D, U, D, U, L, R, L, L, U, D, U, D, U, D, U, D, R, L, U, D, R, L, R, L, U, D, U, U, D, U, D, U, R, L, R, L, D, U, R, L, D, D, R, R, L, L, U, U, D, D, R, L, R, R, D, D, U, U, D, U, D, U, D, D, U, D, D, U, U, U, D, D, D, U, D, D, U, D, U, D, U, U, D, U, U, D, U, D, U, D, D, U, D, D, U, D, D, U, U, U, U, D, U, U, D, D, U, D, U, D, D, U, D, U, U, U, D, U, L, R, D, D, U, D, U, U, L, R, L, L, U, D, R, R, D, U, D, U, D, D, U, D, U, D, U, U, L, R, L, L, R, R, D, U, L, R, L, R, L, R, D, D, D, U, U, D, U, U, D, D, U, U, D, U, D, U, D, U, L, L, R, L, U, D, U, U, R, L, D, U, D, U, R, L, R, L, D, U, D, U, D, U, R, R, L, R, U, D, U, U, D, U, D, D, U, D, L, R, U, U, D, U, D, U, R, L, D, U, D, D, L, R, U, U, D, D, L, R, U, D, L, R, U, U, D, D, U, U, D, D, U, D, U, D, U, D, U, D, U, D, U, D, L, R, U, D, U, D, L, R, U, U, R, L, D, D, U, U, R, L, D, D, U, D, L, R, U, D, U, D, L, R, L, R, U, D, L, L, R, R, U, D, L, R, L, L, R, R, L, L, D, U, R, L, R, L, R, L, D, D, U, D, U, U, D, D, R, R, L, L, U, U, D, D, U, U, D, U, D, U, D, U, R, L, R, L, D, U, R, L, D, D, R, L, R, R, L, R, D, U, L, R, D, D, D, U, U, D, U, D, U, D, U, U, D, D, D, U, D, U, U, D, D, D, U, D, D, D, R, R, L, R, R, L, R, R, U, D, U, D, U, U, U, U, D, U, R, R, L, R, L, L, D, D, U, U, D, D, D, U, D, D, L, L, L, R, R, R, L, R, L, R, U, U, U, U, D, U, R, R, U, U, U, U, D, U, D, U, D, U, D, D, L, R, U, U, D, U, D, D, L, L, L, L, D, U, D, U, D, D, U, D, D, U, U, U, R, R, R, R, U, U, D, D, D, D, L, R, D, U, L, R, L, L, R, L, R, R, L, R, D, U, U, D, D, U, D, U, L, L, R, R, U, U, L, L, L, L, R, R, L, L, R, L, R, R, L, L, R, L, R, L, R, L, D, U, R, L, D, D, U, D, D, U, U, D, D, U, U, U, R, R, R, L, R, R, D, U, D, U, U, U, D, U, D, U, D, D, U, U, D, U, D, U, D, D, D, D, D, U, L, R, D, U, D, U, U, U, D, U, U, D, D, U, U, U, D, U, D, U, D, U, D, D, D, U, D, U, L, R, D, D, U, U, D, U, D, D, U, U, U, U, D, U, D, D, L, L, R, R, U, U, D, U, D, D, U, U, D, U, D, D, L, R, L, L, R, L, L, R, R, L, L, L, D, D, D, U, D, U, D, D, U, U, U, D, U, D, D, D, U, D, U, D, U, D, U, D, U, U, U, D, U, D, U, U, D, D, D, D, U, D, U, D, U, D, U, D, U, U, D, D, U, U, D, U, U, U, D, D, U, U, R, R, R, R, L, L, R, R, L, R, D, U, L, R, U, U, D, U, D, D, D, D, L, R, L, L, D, U, R, L, D, D, D, D, D, D, U, U, D, U, U, U, D, U, U, U, D, D, D, U, U, D, D, D, U, D, D, U, L, L, R, L, R, R, D, U, D, D, L, L, R, L, R, L, R, R, U, U, U, D, D, U, D, D, U, D, L, R, L, R, L, R, L, L, D, D, U, U, D, U, R, L, D, D, U, D, D, U, U, U, D, D, D, D, U, U, D, D, L, R, U, D, U, U, D, U, D, D, L, L, R, R, L, R, L, R, U, D, U, U, D, U, D, U, D, U, D, D, L, R, L, R, L, L, U, D, R, L, R, L, U, U, U, U, D, U, D, D, D, U, D, D, U, U, U, U, L, R, L, L, R, L, R, L, U, D, U, D, U, U, U, U, D, D, U, D, D, U, U, U, L, R, L, R, L, L, U, D, D, D, D, D, D, U, U, U, D, U, D, U, D, U, U, U, R, R, L, L, U, D, U, U, U, U, U, D, U, D, U, D, D, D, D, D, R, R, D, D, U, D, U, U, D, D, U, U, L, L, R, L, D, D, U, D, U, D, D, D, U, U, U, D, U, U, D, U, R, L, D, U, U, U, D, U, U, D, R, L, R, R, L, L, U, U, D, D, D, U, U, U, U, D, U, U, U, U, D, D, D, D, U, D, D, U, U, U, D, U, D, D, D, D, R, R, L, R, L, R, L, R, L, R, L, L, R, L, D, D, R, L, D, D, D, D, U, D, U, U, D, U, D, D, D, U, D, U, U, U, D, U, D, U, D, U, D, D, U, U, U, U, R, R, D, D, D, D, U, D, U, U, D, D, R, L, U, D, R, R, D, U, D, D, D, D, U, U, D, D, R, L, U, D, R, R, L, R, L, L, R, L, U, U, D, U, D, D, R, L, R, L, R, R, L, R, L, L, R, R, L, L, U, D, R, L, U, U, U, D, U, D, U, U, D, U, D, D, D, D, U, U, U, U, D, D, U, U, L, L, R, L, U, U, D, U, D, U, U, U, D, U, L, R, L, L, D, U, R, L, U, D, R, L, R, L, U, D, D, U, R, L, D, U, R, L, U, U, U, D, D, D, D, D, U, U, R, R, D, U, L, R, D, D, D, D, U, D, U, U, D, U, U, D, U, U, L, L, R, L, R, R, D, U, L, R, D, D, D, D, R, R, L, R, L, R, L, R, L, R, L, R, L, L, U, D, U, D, U, D, U, D, U, D, U, U, D, D, U, D, R, L, U, U, U, D, U, U, D, D, U, U, L, L, U, U, R, R, L, L, U, U, U, D, D, D, R, R, L, R, L, R, L, R, L, R, L, L, R, L, D, D, R, L, R, R, D, U, L, L, U, D, R, L, U, D, U, U, U, D, R, L, U, U, D, U, U, D, U, U, D, D, D, D, U, U, D, D, D, D, D, D, U, U, R, L, D, U, R, R, D, U, L, L, D, D, U, U, R, R, D, U, L, L, U, U, U, D, U, U, U, D, D, U, D, D, D, U, U, D, R, R, L, R, L, R, L, R, L, R, L, R, L, R, L, L, R, L, U, D, R, R, L, L, D, U, D, D, R, R, L, L, U, U, D, U, R, R, L, L, U, U, U, U, D, D, U, D, D, U, U, U, D, U, U, U, R, L, R, L, D, U, R, R, L, R, L, R, L, L, D, U, R, R, L, R, L, L, D, D, D, D, U, U, D, D, D, D, U, U, D, D, U, U, D, U, D, D, D, U, U, U, U, D, D, U, U, D, U, U, D, D, U, U, D, D, D, D, R, R, L, R, L, R, L, R, L, R, L, L, D, D, D, D, U, U, R, L, D, U, D, D, D, U, U, U, U, U, R, R, L, R, L, R, L, L, R, R, L, R, L, L, U, U, D, U, D, U, U, U, D, U, D, D, D, U, D, D, U, D, U, U, D, D, D, D, R, R, L, L, R, R, L, R, D, U, L, R, L, L, R, R, L, R, D, U, D, U, L, R, D, U, D, D, U, U, D, D, D, U, U, D, U, U, D, U, D, D, U, U, D, D, D, U, D, D, R, R, L, R, D, D, D, D, R, R, U, D, U, U, U, U, D, D, D, D, U, D, U, D, U, D, L, R, U, D, L, R, U, D, U, D, L, R, U, U, D, U, D, D, U, D, L, R, L, R, L, L, R, R, U, U, U, U, R, R, L, R, L, L, R, L, R, L, R, L, D, U, D, D, D, U, U, D, U, D, U, U, D, D, U, D, D, D, U, D, L, L, U, D, U, D, R, L, R, L, R, L, R, R, L, L, U, U, D, D, U, D, R, L, R, R, U, D, L, R, L, R, L, R, U, U, U, U, R, R, L, R, L, L, R, L, R, R, L, L, R, L, D, D, U, D, D, U, D, U, U, D, D, D, U, D, U, D, L, L, U, D, R, R, L, R, L, L, U, D, U, U, U, U, D, D, U, D, U, D, D, U, U, U, L, L, U, U, D, D, U, D, R, L, R, R, D, U, D, U, L, L, R, R, D, D, D, D, R, R, L, R, L, R, L, L, U, U, D, D, U, U, U, D, U, U, D, D, U, D, D, D, U, D, U, D, U, D, U, U, D, U, U, D, D, U, D, U, U, D, D, U, U, D, D, D, U, U, D, U, D, D, U, U, D, D, U, D, U, U, U, D, D, D, R, R, U, D, L, R, U, D, U, D, U, D, U, D, L, L, R, R, U, U, D, D, U, U, D, U, U, D, D, D, U, D, U, U, D, D, U, U, U, U, R, R, L, L, D, D, D, D, U, U, D, U, U, U, R, L, D, U, D, D, U, U, R, R, L, L, R, L, D, D, D, U, D, U, D, D, L, R, U, D, U, U, D, U, U, D, D, U, U, D, U, U, D, D, U, U, D, U, R, R, U, D, L, R, U, U, U, U, U, D, D, D, L, R, D, D, U, U, U, D, L, R, D, U, D, U, U, U, U, D, U, U, D, U, R, L, R, L, D, D, U, U, R, L, D, D, D, D, U, U, D, D, D, D, U, U, L, L, L, L, R, R, R, R, D, U, D, D, L, R, U, D, L, R, L, L, D, D, U, D, U, U, R, L, R, L, D, D, U, U, D, U, R, L, D, U, R, R, U, D, L, R, L, R, L, L, R, R, L, R, L, R, L, L, D, D, D, D, L, L, U, D, R, L, U, D, R, L, U, D, R, R, L, L, R, L, U, U, D, U, U, D, U, D, U, U, D, D, D, D, R, L, U, U, D, D, R, L, R, L, R, L, U, U, D, U, D, U, U, D, U, U, D, U, D, U, D, U, D, D, U, D, D, D, R, R, U, D, L, L, R, R, L, L, R, L, R, R, U, U, U, D, U, U, D, U, D, U, R, L, R, L, R, L, D, D, U, U, D, U, D, U, D, U, D, U, R, R, L, L, D, U, R, L, D, D, U, U, R, R, U, D, L, L, D, D, U, U, D, D, D, D, L, L, U, U, D, D, R, L, U, U, D, U, U, D, U, D, D, U, D, U, D, U, D, U, U, D, D, U, U, D, D, D, R, R, U, U, D, D, L, R, U, D, U, U, D, D, U, U, D, U, U, U, R, L, D, U, D, D, D, U, U, U, R, R, U, U, U, D, D, D, L, R, L, R, L, R, L, L, D, D, U, D, D, D, U, U, U, U, R, L, D, D, U, D, U, U, D, U, R, L, D, U, D, U, D, D, D, U, D, U, D, U, U, D, U, U, R, L, D, U, R, R, L, L, D, U, R, R, U, U, U, U, D, U, D, U, U, U, R, R, U, D, D, D, D, U, D, U, D, D, R, L, U, U, U, U, L, R, D, U, L, R, D, D, U, U, D, D, D, U, D, D, U, U, D, D, R, L, R, R, U, D, L, L, R, L, U, U, U, D, U, D, D, D, R, L, U, U, D, U, D, U, U, D, D, U, U, U, U, U, D, D, L, R, L, R, D, D, D, D, R, L, R, R, U, U, U, D, D, U, U, D, D, U, U, D, D, U, D, D, U, D, L, L, U, U, D, U, U, U, L, R, D, D, U, U, U, D, L, L, R, R, U, U, L, R, U, U, D, U, D, U, D, U, D, U, D, D, D, D, U, U, L, L, R, R, U, U, D, U, D, U, D, U, D, U, D, D, D, D, U, D, D, U, D, D, U, U, D, U, D, U, D, D, U, U, D, U, L, L, D, D, D, U, D, D, U, U, D, U, D, U, D, U, D, U, U, U, D, U, R, R, U, D, D, D, D, U, D, U, D, D, R, L, U, U, U, D, D, U, D, U, D, D, R, L, U, D, R, L, U, D, U, U, U, D, U, U, D, D, D, U, D, D, R, L, R, L, U, U, U, D, U, U, D, D, D, U, U, U, D, U, D, U, D, D, D, D, U, U, U, D, U, U, U, D, L, R, L, R, U, D, L, R, L, L, R, R, D, D, U, U, D, D, D, U, U, U, D, D, U, D, D, D, U, U, D, U, U, U, U, D, L, R, L, R, L, L, R, R, D, U, L, L, R, L, D, D, D, D, U, D, L, R, D, D, U, U, U, U, U, U, D, D, U, U, R, L, R, L, R, L, R, L, R, L, D, D, U, U, R, R, L, R, U, D, D, U, D, U, D, D, D, D, R, R, L, R, U, D, L, R, U, U, D, U, U, U, D, D, D, U, U, D, U, D, D, D, L, L, R, R, U, D, U, U, U, U, D, D, U, D, U, D, D, D, U, U, D, D, L, R, L, R, L, L, R, R, L, L, U, D, U, D, R, L, R, R, U, U, U, U, D, D, U, U, D, D, U, D, D, D, U, U, U, D, U, D, U, D, U, D, D, D, U, U, U, D, U, U, D, U, D, U, D, D, D, D, U, D, U, U, D, U, D, U, D, U, D, U, U, U, D, D, U, U, D, U, D, D, U, U, D, U, D, U, D, U, D, D, D, D, U, U, U, U, D, D, D, D, U, U, D, D, L, R, L, R, U, D, L, R, U, D, L, R, U, D, L, R, U, U, U, U, D, D, U, D, U, U, D, U, D, D, D, U, D, D, U, D, U, D, U, U, D, U, D, U, D, D, U, U, U, D, U, U, D, U, D, U, D, U, D, D, U, U, D, U, D, D, D, U, U, U, D, D, D, U, U, U, D, U, D, D, U, D, D, D, L, R, L, L, R, L, R, R, L, R, U, D, U, D, U, U, D, U, D, D, U, D, L, L, R, R, L, R, L, L, R, R, U, D, L, R, U, D, L, L, U, U, D, D, R, R, L, R, L, R, L, R, L, R, L, R, L, L, R, L, R, R, U, U, U, D, U, U, D, D, D, U, D, U, U, U, D, D, U, D, D, U, U, U, D, D, D, D, L, R, U, D, L, R, L, L, R, R, L, L, R, R, L, R, U, D, U, U, D, D, L, R, U, D, L, L, U, D, R, R, L, L, U, U, D, D, R, R, L, R, L, R, U, U, D, D, L, L, U, D, R, R, L, R, L, R, L, L, U, D, U, U, D, D, R, L, R, L, U, D, R, R, L, L, U, D, U, D, U, U, U, U, D, U, U, U, D, U, D, D, U, U, U, D, D, D, D, D, U, U, L, R, D, D, D, U, D, U, D, U, D, U, D, D, R, L, U, D, R, L, U, D, R, R, L, L, U, D, R, L, U, D, R, L, U, D, U, U, U, D, D, D, R, L, R, L, U, U, U, D, U, D, U, U, U, D, D, U, L, L, D, D, D, D, D, U, L, L, R, R, U, D, U, D, D, U, U, D, D, D, L, L, D, U, D, U, R, L, D, D, D, U, D, D, L, R, U, D, L, R, L, R, U, D, L, R, L, R, U, U, D, D, U, D, U, U, U, U, D, U, D, D, D, U, U, D, U, D, D, D, L, L, U, D, U, U, D, U, D, D, R, R, L, R, L, L, R, R, L, L, U, U, D, D, R, R, U, D, U, U, D, U, U, D, D, D, U, U, U, D, U, D, U, D, U, U, R, R, L, R, U, U, U, D, U, U, D, D, D, U, L, R, U, D, U, U, D, U, U, U, R, L, D, U, D, U, D, U, R, L, R, L, D, D, U, D, U, U, R, R, U, D, L, L, R, R, D, U, L, R, L, R, D, U, L, L, R, L, D, D, U, D, U, U, R, R, L, L, D, D, U, U, R, L, R, R, U, D, L, R, L, R, D, D, D, U, U, U, L, L, R, L, R, L, D, D, U, U, R, R, U, U, U, D, U, U, D, U, D, D, U, U, D, U, D, D, U, U, D, U, D, D, U, D, L, L, L, L, R, R, L, L, R, R, R, R, D, U, D, D, U, U, L, R, U, U, D, U, D, U, D, U, D, D, U, U, D, U, D, D, L, L, R, L, L, L, D, D, D, U, U, U, D, D, U, U, D, U, R, L, D, D, D, D, U, D, U, D, U, D, U, U, U, D, U, U, R, L, R, L, R, L, R, R, R, L, L, R, R, R, U, D, U, D, L, R, U, D, U, U, D, D, U, D, L, L, R, L, R, R, L, L, L, R, L, L, D, D, U, U, D, U, R, R, L, L, R, L, D, D, U, U, D, D, D, U, U, U, D, D, U, U, R, L, D, D, D, D, U, U, D, U, D, U, D, D, U, D, U, D, U, D, U, U, U, D, U, D, U, D, U, U, D, U, D, U, R, R, R, L, R, R, L, L, L, L, R, R, L, L, D, U, R, R, L, L, D, D, D, D, U, U, U, U, R, L, R, R, R, L, L, L, R, L, R, L, D, U, R, L, R, R, L, R, L, R, R, L, R, R, L, L, L, R, R, R, D, U, L, R, U, D, L, L, R, L, L, R, R, R, D, D, L, R, D, U, U, D, L, R, L, R, D, D, U, U, U, U, L, L, L, R, R, L, R, L, R, R, U, D, U, D, L, R, D, D, D, U, L, L, D, U, R, L, D, U, D, U, D, D, U, D, D, D, L, L, R, L, R, R, D, U, D, D, L, L, D, U, D, D, D, D, U, U, U, D, D, U, U, U, R, R, U, U, U, U, U, D, U, D, D, D, D, D, L, R, U, D, L, R, U, U, U, D, D, U, U, U, D, U, U, D, U, D, U, D, D, D, L, R, L, L, R, R, U, D, D, D, L, R, U, D, U, D, U, D, U, D, L, L, D, U, D, U, D, D, U, D, D, U, U, U, D, D, D, D, U, D, L, R, U, D, L, L, U, U, U, U, D, U, D, U, D, U, D, D, U, D, U, D, U, D, U, D, U, U, L, L, U, U, D, U, D, D, R, L, U, U, D, D, U, U, U, D, U, D, D, U, D, U, U, U, L, L, R, R, L, L, D, U, R, R, D, D, U, U, D, U, L, R, D, U, D, D, U, U, L, R, D, U, D, U, L, L, R, L, R, R, D, D, U, U, D, D, D, U, U, U, L, R, L, L, U, D, U, U, D, D, R, R, L, L, R, R, D, U, L, R, L, L, D, D, D, D, D, U, D, D, U, D, U, D, R, L, R, R, D, U, L, L, U, D, U, U, U, D, U, U, D, U, D, U, U, U, D, U, R, R, D, D, D, U, U, U, D, D, U, U, L, L, U, U, R, R, L, L, D, U, D, U, D, D, R, L, D, U, U, D, U, U, U, U, D, D, U, D, R, L, D, U, U, D, U, D, U, U, U, U, D, U, D, D, D, D, U, D, R, L, D, U, U, U, U, U, U, D, U, U, D, U, R, R, L, R, L, L, D, U, D, D, U, D, D, D, U, U, U, D, D, U, U, D, D, U, D, D, D, D, U, D, D, D, D, U, U, U, U, U, D, D, R, L, D, U, U, D, R, L, R, L, U, U, U, U, U, U, R, R, L, L, D, U, D, D, U, D, D, U, U, U, R, R, L, R, L, R, L, R, L, L, R, L, D, U, D, U, R, R, L, R, L, R, L, R, L, R, L, R, L, R, L, L, R, R, L, L, D, U, R, R, L, R, L, L, D, U, D, U, D, U, R, L, R, L, D, D, D, U, U, U, R, R, L, L, R, L, R, R, L, L, R, L, D, U, D, U, D, U, D, D, U, D, D, D, D, D, D, D, R, L, R, R, L, R, L, R, D, U, L, L, D, U, U, U, U, D, D, D, R, L, D, D, U, U, U, D, R, L, D, U, U, U, D, U, R, L, U, D, D, U, U, D, D, D, U, D, U, U, D, U, U, U, D, D, R, L, U, U, U, D, D, D, U, D, R, R, L, R, L, L, U, D, U, D, R, R, L, L, D, D, D, U, R, L, R, L, D, D, U, D, D, D, U, D, D, D, R, L, U, U, U, D, D, U, U, D, D, U, D, D, R, R, D, D, D, U, D, D, U, D, U, U, U, D, D, U, U, D, U, D, D, U, D, D, L, R, R, R, L, R, L, R, R, L, R, R, R, L, R, R, U, D, U, D, L, R, U, U, R, L, D, D, L, R, U, D, U, D, U, D, L, L, R, L, L, R, L, L, L, L, R, L, L, L, U, D, U, D, U, D, U, D, U, U, D, U, D, U, D, U, D, D, R, R, U, U, U, U, L, R, L, L, U, U, D, U, D, U, U, U, U, D, D, U, U, U, R, R, D, U, L, R, L, R, L, R, D, U, D, U, L, R, L, L, D, U, D, D, U, U, U, U, R, L, U, U, D, U, U, U, D, U, D, U, D, D, D, D, D, D, D, D, U, D, D, U, U, U, U, U, U, U, D, D, D, U, U, U, U, U, U, D, D, D, U, U, D, D, D, D, U, D, R, R, L, L, R, L, R, R, L, R, L, L, R, L, D, D, D, D, D, D, D, U, D, U, U, U, U, U, R, R, D, U, L, L, U, D, U, U, U, U, U, D, D, D, U, D, U, U, D, U, D, U, D, U, U, U, U, D, U, U, D, D, U, U, D, U, R, R, L, L, R, R, L, R, L, L, D, D, U, D, D, U, D, D, D, D, U, U, D, U, D, U, U, D, U, U, D, U, U, D, D, U, D, D, U, D, U, D, D, D, R, R, L, R, L, L, U, D, U, U, U, D, D, D, U, D, D, U, U, U, U, U, D, D, U, U, U, D, D, D, U, U, D, D, U, U, U, D, U, U, D, U, R, R, L, L, D, U, R, R, L, L, D, U, R, R, L, L, R, L, D, D, U, D, D, U, D, U, D, U, U, D, D, D, U, U, D, D, U, U, D, D, U, U, U, D, U, D, D, D, U, U, D, D, U, U, U, U, R, R, L, L, D, D, D, D, U, D, D, U, U, D, D, D, D, D, D, D, D, D, D, D, R, L, U, U, U, D, U, D, D, U, D, D, U, U, U, D, D, D, R, L, R, L, R, L, U, D, U, U, D, D, R, R, D, U, L, L, R, R, L, L, R, R, D, U, D, U, D, D, D, D, U, D, U, D, R, R, L, R, L, R, L, R, R, L, R, R, L, L, R, R, L, L, R, R, R, L, R, R, U, D, L, R, U, D, U, D, U, U, R, L, D, D, L, L, R, L, L, L, R, L, R, L, R, R, R, R, U, D, U, U, R, L, R, R, L, L, D, D, L, R, U, D, L, R, U, U, D, U, R, L, R, R, R, L, L, R, R, R, L, L, L, R, L, R, L, L, R, L, R, L, R, R, R, R, L, R, L, R, D, D, U, U, L, L, R, R, D, U, D, U, L, R, L, R, D, U, D, D, L, L, D']\n",
      "\n",
      "The visited squares while searching for the correct path are shown in green: \n"
     ]
    },
    {
     "data": {
      "image/png": "[encoded data removed]",
      "text/plain": [
       "<Figure size 640x480 with 1 Axes>"
      ]
     },
     "metadata": {},
     "output_type": "display_data"
    }
   ],
   "source": [
    "# Setup conditions for the maze solver functions\n",
    "maze = np.array(compact_maze)\n",
    "size = len(maze)\n",
    "result = []\n",
    "path = []\n",
    "\n",
    "# Algorithm to select maze solver method via user input\n",
    "method = input(\"Would you like to solve the maze using a backtracking or a Las Vegas method? \") \n",
    "check = False\n",
    "while check == False:\n",
    "    if method == \"Backtracking\":\n",
    "        Backtrack(maze, 0, 9, size, result, path, visited)\n",
    "        check = True\n",
    "    elif method == \"Las Vegas\":\n",
    "        LasVegas(maze, 0, 9, size, result, path, visited)\n",
    "        check = True\n",
    "    # Avoiding invalid input\n",
    "    else:\n",
    "        method=input(\"Sorry I didn't recognise that, please enter either Backtracking or Las Vegas: \")\n",
    "\n",
    "# Mark any unvisited cells in the visited array\n",
    "for i in range(size):\n",
    "    for j in range(size):\n",
    "        if maze[i][j] == 1:\n",
    "            if visited[i][j] != 2:\n",
    "                visited[i][j] = 1\n",
    "\n",
    "print(\"The path to get to the exit is:\" + str(result))\n",
    "print(\"\")\n",
    "\n",
    "# Assign colours to specific values\n",
    "# Black for walls, white for unvisited cells, green for visited cells\n",
    "colours = {0: np.array([0, 0, 0]), 1: np.array([255, 255, 255]), 2: np.array([0, 255, 0])} \n",
    "\n",
    "# Use a 3D array to assign color   \n",
    "visited_coloured = np.ndarray(shape = (visited.shape[0], visited.shape[1], 3), dtype = int)\n",
    "for i in range(0, visited.shape[0]):\n",
    "    for j in range(0, visited.shape[1]):\n",
    "        visited_coloured[i][j] = colours[visited[i][j]]\n",
    "\n",
    "print(\"The visited squares while searching for the correct path are shown in green: \")\n",
    "mp.imshow(visited_coloured)\n",
    "mp.axis(\"off\")\n",
    "mp.show()\n"
   ]
  },
  {
   "cell_type": "markdown",
   "metadata": {},
   "source": [
    "### Question 2:\n",
    "Minimum Spanning Tree from a weighted connected graph."
   ]
  },
  {
   "cell_type": "code",
   "execution_count": null,
   "metadata": {},
   "outputs": [
    {
     "data": {
      "image/png": "[encoded data removed]",
      "text/plain": [
       "<Figure size 640x480 with 1 Axes>"
      ]
     },
     "metadata": {},
     "output_type": "display_data"
    }
   ],
   "source": [
    "import matplotlib.pyplot as mp\n",
    "import networkx as nx\n",
    "import pandas as pd\n",
    "\n",
    "# Construct the graph\n",
    "G = nx.Graph()\n",
    "nodes = [\"A\", \"B\", \"C\", \"D\", \"E\", \"F\",\"Z\"]\n",
    "G.add_nodes_from(nodes)\n",
    "G.add_edge(\"A\", \"B\", weight = 2)\n",
    "G.add_edge(\"A\", \"C\", weight = 7)\n",
    "G.add_edge(\"B\", \"D\", weight = 1)\n",
    "G.add_edge(\"B\", \"E\", weight = 5)\n",
    "G.add_edge(\"C\", \"D\", weight = 3)\n",
    "G.add_edge(\"C\", \"F\", weight = 10)\n",
    "G.add_edge(\"D\", \"F\", weight = 4)\n",
    "G.add_edge(\"D\", \"Z\", weight = 6)\n",
    "G.add_edge(\"E\", \"Z\", weight = 3)\n",
    "G.add_edge(\"F\", \"Z\", weight = 3)\n",
    "pos = nx.spring_layout(G)\n",
    "nx.draw_networkx_nodes(G, pos)\n",
    "nx.draw_networkx_edges(G, pos, style = \"solid\")\n",
    "nx.draw_networkx_labels(G, pos)\n",
    "weight = nx.get_edge_attributes(G, \"weight\")\n",
    "nx.draw_networkx_edge_labels(G, pos, weight)\n",
    "mp.show()"
   ]
  },
  {
   "cell_type": "code",
   "execution_count": 88,
   "metadata": {},
   "outputs": [
    {
     "name": "stdout",
     "output_type": "stream",
     "text": [
      "[[ 0  2  7  0  0  0  0]\n",
      " [ 2  0  0  1  5  0  0]\n",
      " [ 7  0  0  3  0 10  0]\n",
      " [ 0  1  3  0  0  4  6]\n",
      " [ 0  5  0  0  0  0  3]\n",
      " [ 0  0 10  4  0  0  3]\n",
      " [ 0  0  0  6  3  3  0]]\n"
     ]
    }
   ],
   "source": [
    "# Convert to a Pandas DataFrame\n",
    "adj_matrix = nx.to_pandas_adjacency(G)\n",
    "\n",
    "# Convert to a NumPy array for easy iteration\n",
    "adj_matrix = np.array(adj_matrix).astype(int)\n",
    "print(adj_matrix)\n"
   ]
  },
  {
   "cell_type": "markdown",
   "metadata": {},
   "source": [
    "#### MST using Prims Algorithm"
   ]
  },
  {
   "cell_type": "code",
   "execution_count": 89,
   "metadata": {},
   "outputs": [
    {
     "name": "stdout",
     "output_type": "stream",
     "text": [
      "[[0 2 0 0 0 0 0]\n",
      " [0 0 0 1 5 0 0]\n",
      " [0 0 0 0 0 0 0]\n",
      " [0 0 3 0 0 4 0]\n",
      " [0 0 0 0 0 0 3]\n",
      " [0 0 0 0 0 0 0]\n",
      " [0 0 0 0 0 0 0]]\n"
     ]
    }
   ],
   "source": [
    "# Assign a matrix to store the MST edges.\n",
    "mst_matrix = np.zeros([7,7]).astype(int)\n",
    "prim = len(adj_matrix)\n",
    "\n",
    "# Erase the first column of edges\n",
    "for row in range(prim):\n",
    "    for col in range(1):\n",
    "        adj_matrix[row][col]=0\n",
    "\n",
    "# Iterate over the nodes, adding the lowest weighted edge each time starting from node A\n",
    "for stage in range(prim):\n",
    "    lowest_edge = 0\n",
    "    row_track = 0\n",
    "    col_track = 0\n",
    "    for row in range(stage + 1):\n",
    "        for col in range(prim):\n",
    "            if adj_matrix[row][col] != 0:   \n",
    "                if lowest_edge == 0 or adj_matrix[row][col] < lowest_edge:\n",
    "                    lowest_edge = adj_matrix[row][col]\n",
    "                    row_track = row\n",
    "                    col_track = col               \n",
    "    mst_matrix[row_track][col_track] = adj_matrix[row_track][col_track]                \n",
    "    for row in range(prim):\n",
    "        for col in range(col_track, col_track + 1):\n",
    "            adj_matrix[row][col] = 0\n",
    "\n",
    "print(mst_matrix)"
   ]
  },
  {
   "cell_type": "code",
   "execution_count": null,
   "metadata": {},
   "outputs": [
    {
     "name": "stdout",
     "output_type": "stream",
     "text": [
      "   A  B  C  D  E  F  Z\n",
      "A  0  2  0  0  0  0  0\n",
      "B  0  0  0  1  5  0  0\n",
      "C  0  0  0  0  0  0  0\n",
      "D  0  0  3  0  0  4  0\n",
      "E  0  0  0  0  0  0  3\n",
      "F  0  0  0  0  0  0  0\n",
      "Z  0  0  0  0  0  0  0\n"
     ]
    }
   ],
   "source": [
    "# Convert back to a Pandas DataFrame\n",
    "mst_labelled = pd.DataFrame(mst_matrix, index = [\"A\", \"B\", \"C\", \"D\", \"E\", \"F\", \"Z\"], columns = [\"A\", \"B\", \"C\", \"D\", \"E\", \"F\", \"Z\"])\n",
    "print(mst_labelled)\n"
   ]
  },
  {
   "cell_type": "code",
   "execution_count": null,
   "metadata": {},
   "outputs": [
    {
     "data": {
      "image/png": "[encoded data removed]",
      "text/plain": [
       "<Figure size 640x480 with 1 Axes>"
      ]
     },
     "metadata": {},
     "output_type": "display_data"
    },
    {
     "name": "stdout",
     "output_type": "stream",
     "text": [
      "The total weight of the MST is: 18\n"
     ]
    }
   ],
   "source": [
    "#Gather data from the DataFrame\n",
    "mst = nx.from_pandas_adjacency(mst_labelled)\n",
    "\n",
    "# Construct the tree with weighted labels\n",
    "pos = nx.spring_layout(mst)\n",
    "nx.draw_networkx_nodes(mst, pos)\n",
    "nx.draw_networkx_edges(mst, pos, style = \"solid\")\n",
    "nx.draw_networkx_labels(mst, pos)\n",
    "weight = nx.get_edge_attributes(mst, \"weight\")\n",
    "nx.draw_networkx_edge_labels(mst, pos, weight)\n",
    "mp.show()\n",
    "\n",
    "# Sum the wieghts\n",
    "count = len(mst_matrix)\n",
    "mst_total_weight = 0\n",
    "for row in range(count):\n",
    "    for col in range(count):\n",
    "        mst_total_weight = mst_total_weight + mst_matrix[row][col]\n",
    "\n",
    "print(f\"The total weight of the MST is: {mst_total_weight}\")\n"
   ]
  },
  {
   "cell_type": "markdown",
   "metadata": {},
   "source": [
    "### Question 3:\n",
    "<p>The Quick Sort algorithm is a particularly fast sorting method, with no additional storage needed than the list of values to be sorted (Hoare, 1961). The example below utilises the Hoare Partition Scheme (Hoare, 1961). With the addition of the pivot being fixed as the midpoint of the values with the first and last index in each partition, using floor division.</p>\n",
    "<p>The Partition function has one index at either side of the list, incrementing into the list until both are equal to the index of the pivot point; the values less than the pivot are to the left of the pivot; and the values greater than the pivot are to the right of the pivot. The QuickSort function calls the partition function on the entire list, then on each half recursively until the entire list is sorted.</p>"
   ]
  },
  {
   "cell_type": "markdown",
   "metadata": {},
   "source": [
    "#### Pseudocode"
   ]
  },
  {
   "cell_type": "markdown",
   "metadata": {},
   "source": [
    "\n",
    "    Partition(list, low, high)\n",
    "        pivot := middle element of list\n",
    "        low_index := low - 1\n",
    "        high_index := high + 1\n",
    "\n",
    "        Loop forever\n",
    "            increment low_index by 1\n",
    "            while list[low_index] < pivot\n",
    "                increment low_index by 1\n",
    "            decrement high_index by 1\n",
    "            while list[high_index] > pivot\n",
    "                decrement high_index by 1\n",
    "            if low_index >= high_index\n",
    "                return high_index\n",
    "            else\n",
    "                swap list[low_index] and list[high_index] \n",
    "\n",
    "    QuickSort(list, low, high)\n",
    "        if low < high\n",
    "            pivot_index := Partition(list, low, high)\n",
    "            QuickSort(list, low, pivot_index) //partition and sort the elements left of the pivot\n",
    "            QuickSort(list, pivot_index + 1, high) //partition and sort the elements right of the pivot"
   ]
  },
  {
   "cell_type": "markdown",
   "metadata": {},
   "source": [
    "#### Algorithm"
   ]
  },
  {
   "cell_type": "code",
   "execution_count": null,
   "metadata": {},
   "outputs": [
    {
     "name": "stdout",
     "output_type": "stream",
     "text": [
      "[1, 2, 3, 4, 6, 7, 8, 9]\n",
      "['Brussels', 'Canberra', 'London', 'Paris', 'Rome']\n"
     ]
    }
   ],
   "source": [
    "def Partition(list, low, high):\n",
    "    pivot = list[(low + high) // 2] # Midpoint of the current partition\n",
    "    low_index = low - 1 \n",
    "    high_index = high + 1\n",
    "\n",
    "    while True:\n",
    "        low_index = low_index + 1\n",
    "        # Increment first index\n",
    "        while list[low_index] < pivot: # Reverse the sign to change the sort order\n",
    "            low_index = low_index + 1\n",
    "        high_index = high_index - 1\n",
    "        # Decrement second index\n",
    "        while list[high_index] > pivot: # Reverse the sign to change the sort order\n",
    "            high_index = high_index - 1\n",
    "        # Check if the values have been partitioned with respect to the pivot\n",
    "        if low_index >= high_index:\n",
    "            return high_index\n",
    "        # Swap the values to the correct partitions\n",
    "        list[low_index], list[high_index] = list[high_index], list[low_index]\n",
    "\n",
    "def QuickSort(list, low, high):\n",
    "    if low < high:\n",
    "        # Partition the values with respect to the pivot\n",
    "        pivot_index = Partition(list, low, high)\n",
    "        # Sort the lower values partition\n",
    "        QuickSort(list, low, pivot_index)\n",
    "        # Sort the higher values partition\n",
    "        QuickSort(list, pivot_index + 1, high)\n",
    "\n",
    "# Example driver code using a list of integers to be sorted in ascending order\n",
    "integers = [9, 1, 8, 7, 4, 3, 6, 2]\n",
    "QuickSort(integers, 0, len(integers) - 1)\n",
    "print(integers)\n",
    "\n",
    "# Example driver code using a list of cities to be sorted alphabetically\n",
    "cities = [\"London\", \"Paris\", \"Rome\", \"Canberra\", \"Brussels\"]\n",
    "QuickSort(cities, 0, len(cities) - 1)\n",
    "print(cities)"
   ]
  },
  {
   "cell_type": "markdown",
   "metadata": {},
   "source": []
  },
  {
   "cell_type": "markdown",
   "metadata": {},
   "source": [
    "### Question 4:\n",
    "The algorithm below first formats a string into all lowercase letters to allow comparison of all characters. If the string is only a signle character then it is by definition a palindrome, so no processing is required. If the string is longer, the function is recursively called to compare the outermost characters, progressing towards the centre character(s). If all characters can be successfully confirmed as matching then the function will return true, otherwise it will return false."
   ]
  },
  {
   "cell_type": "code",
   "execution_count": 324,
   "metadata": {},
   "outputs": [],
   "source": [
    "def isPalindrome(palindrome):\n",
    "    #standardise the case to ensure all characters can be compared\n",
    "    palindrome=palindrome.lower() \n",
    "    #identify a string of only one character or if the recursive algorithm has successfully reached the centre of the string\n",
    "    if len(palindrome)<2: \n",
    "        return True\n",
    "    if palindrome[0]==palindrome[len(palindrome)-1]:\n",
    "        return isPalindrome(palindrome[1:len(palindrome)-1])\n",
    "    #not a palindrome\n",
    "    else:\n",
    "        return False"
   ]
  },
  {
   "cell_type": "markdown",
   "metadata": {},
   "source": [
    "An example of calling the function with a non-palindrome:"
   ]
  },
  {
   "cell_type": "code",
   "execution_count": 325,
   "metadata": {},
   "outputs": [
    {
     "name": "stdout",
     "output_type": "stream",
     "text": [
      "The word is not a palindrome.\n"
     ]
    }
   ],
   "source": [
    "a=\"Horticulture\"\n",
    "if isPalindrome(a):\n",
    "    print(\"The word is a palindrome.\")\n",
    "else:\n",
    "    print(\"The word is not a palindrome.\")"
   ]
  },
  {
   "cell_type": "markdown",
   "metadata": {},
   "source": [
    "With a palindrome:"
   ]
  },
  {
   "cell_type": "code",
   "execution_count": 326,
   "metadata": {},
   "outputs": [
    {
     "name": "stdout",
     "output_type": "stream",
     "text": [
      "The word is a palindrome.\n"
     ]
    }
   ],
   "source": [
    "b=\"Detartrated\"\n",
    "if isPalindrome(b):\n",
    "    print(\"The word is a palindrome.\")\n",
    "else:\n",
    "    print(\"The word is not a palindrome.\")"
   ]
  },
  {
   "cell_type": "markdown",
   "metadata": {},
   "source": [
    "With a user-inputted string, the input used was \"Rotator\":"
   ]
  },
  {
   "cell_type": "code",
   "execution_count": 328,
   "metadata": {},
   "outputs": [
    {
     "name": "stdout",
     "output_type": "stream",
     "text": [
      "The word is not a palindrome.\n"
     ]
    }
   ],
   "source": [
    "c=input(\"Enter a word to check if it is a palindrome.\")\n",
    "if isPalindrome(c):\n",
    "    print(\"The word is a palindrome.\")\n",
    "else:\n",
    "    print(\"The word is not a palindrome.\")"
   ]
  }
 ],
 "metadata": {
  "kernelspec": {
   "display_name": ".venv",
   "language": "python",
   "name": "python3"
  },
  "language_info": {
   "codemirror_mode": {
    "name": "ipython",
    "version": 3
   },
   "file_extension": ".py",
   "mimetype": "text/x-python",
   "name": "python",
   "nbconvert_exporter": "python",
   "pygments_lexer": "ipython3",
   "version": "3.12.4"
  }
 },
 "nbformat": 4,
 "nbformat_minor": 2
}
